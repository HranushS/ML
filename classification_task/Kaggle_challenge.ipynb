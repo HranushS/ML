{
 "cells": [
  {
   "cell_type": "markdown",
   "id": "d9f5af4a",
   "metadata": {},
   "source": [
    "# Teamwork\n",
    "<pre>26.12.2121\n",
    "Hranush Sahradyan\n",
    "Varduhi Beglaryan\n",
    "Ara Stepanyan</pre>"
   ]
  },
  {
   "cell_type": "markdown",
   "id": "6399908a",
   "metadata": {},
   "source": [
    "## Assagniment\n",
    "Cardiovascular diseases (CVDs) are the number 1 cause of death globally, taking an estimated 17.9 million lives each year, which accounts for 31% of all deaths worldwide. Four out of 5CVD deaths are due to heart attacks and strokes, and one-third of these deaths occur prematurely in people under 70 years of age. Heart failure is a common event caused by CVDs and this dataset contains 11 features that can be used to predict a possible heart disease.\n",
    "\n",
    "People with cardiovascular disease or who are at high cardiovascular risk (due to the presence of one or more risk factors such as hypertension, diabetes, hyperlipidaemia or already established disease) need early detection and management wherein a machine learning model can be of great help.\n",
    "Our goal is to classify does the patient has heart disease or not.\n",
    "\n",
    "### Attribute Information\n",
    "1.Age: age of the patient [years]<br></br>\n",
    "2.Sex: sex of the patient [M: Male, F: Female]<br></br>\n",
    "3.ChestPainType: chest pain type [TA: Typical Angina, ATA: Atypical Angina, NAP: Non-Anginal Pain, ASY: Asymptomatic]<br></br>\n",
    "4.RestingBP: resting blood pressure [mm Hg]<br></br>\n",
    "5.Cholesterol: serum cholesterol [mm/dl]<br></br>\n",
    "6.FastingBS: fasting blood sugar [1: if FastingBS > 120 mg/dl, 0: otherwise]<br></br>\n",
    "7.RestingECG: resting electrocardiogram results [Normal: Normal, ST: having ST-T wave abnormality (T wave inversions and/or ST elevation or depression of > 0.05 mV), LVH: showing probable or definite left ventricular hypertrophy by Estes' criteria]<br></br>\n",
    "8.MaxHR: maximum heart rate achieved [Numeric value between 60 and 202]<br></br>\n",
    "9.ExerciseAngina: exercise-induced angina [Y: Yes, N: No]<br></br>\n",
    "10.Oldpeak: oldpeak = ST [Numeric value measured in depression]<br></br>\n",
    "11.ST_Slope: the slope of the peak exercise ST segment [Up: upsloping, Flat: flat, Down: downsloping]<br></br>\n",
    "12.HeartDisease: output class [1: heart disease, 0: Normal]<br></br>\n",
    "\n",
    "\n",
    "more info on https://www.kaggle.com/fedesoriano/heart-failure-prediction"
   ]
  },
  {
   "cell_type": "markdown",
   "id": "22a4d6af",
   "metadata": {},
   "source": [
    "## Data  and Feature Analysis"
   ]
  },
  {
   "cell_type": "code",
   "execution_count": 28,
   "id": "c7a4b20e",
   "metadata": {},
   "outputs": [],
   "source": [
    "import numpy as np \n",
    "import pandas as pd\n",
    "import matplotlib.pyplot as plt\n",
    "import seaborn as sns\n",
    "import warnings\n",
    "warnings.filterwarnings('ignore')"
   ]
  },
  {
   "cell_type": "code",
   "execution_count": 41,
   "id": "1d982004",
   "metadata": {},
   "outputs": [],
   "source": [
    "df=pd.read_csv('heart.csv')\n",
    "train=df.sample(frac=0.8,random_state=100) #random state is a seed value\n",
    "test=df.drop(train.index)"
   ]
  },
  {
   "cell_type": "markdown",
   "id": "95328d2d",
   "metadata": {},
   "source": [
    "Within the framework of the competition, we will divide the data into two parts: test-train(8:2 ratio)․\n",
    "We will use the test data to evaluate the final model at the end․"
   ]
  },
  {
   "cell_type": "code",
   "execution_count": 29,
   "id": "594fb56f",
   "metadata": {},
   "outputs": [
    {
     "data": {
      "text/html": [
       "<div>\n",
       "<style scoped>\n",
       "    .dataframe tbody tr th:only-of-type {\n",
       "        vertical-align: middle;\n",
       "    }\n",
       "\n",
       "    .dataframe tbody tr th {\n",
       "        vertical-align: top;\n",
       "    }\n",
       "\n",
       "    .dataframe thead th {\n",
       "        text-align: right;\n",
       "    }\n",
       "</style>\n",
       "<table border=\"1\" class=\"dataframe\">\n",
       "  <thead>\n",
       "    <tr style=\"text-align: right;\">\n",
       "      <th></th>\n",
       "      <th>Age</th>\n",
       "      <th>Sex</th>\n",
       "      <th>ChestPainType</th>\n",
       "      <th>RestingBP</th>\n",
       "      <th>Cholesterol</th>\n",
       "      <th>FastingBS</th>\n",
       "      <th>RestingECG</th>\n",
       "      <th>MaxHR</th>\n",
       "      <th>ExerciseAngina</th>\n",
       "      <th>Oldpeak</th>\n",
       "      <th>ST_Slope</th>\n",
       "      <th>HeartDisease</th>\n",
       "    </tr>\n",
       "  </thead>\n",
       "  <tbody>\n",
       "    <tr>\n",
       "      <th>428</th>\n",
       "      <td>62</td>\n",
       "      <td>M</td>\n",
       "      <td>ASY</td>\n",
       "      <td>110</td>\n",
       "      <td>0</td>\n",
       "      <td>0</td>\n",
       "      <td>Normal</td>\n",
       "      <td>120</td>\n",
       "      <td>Y</td>\n",
       "      <td>0.5</td>\n",
       "      <td>Flat</td>\n",
       "      <td>1</td>\n",
       "    </tr>\n",
       "    <tr>\n",
       "      <th>424</th>\n",
       "      <td>60</td>\n",
       "      <td>M</td>\n",
       "      <td>NAP</td>\n",
       "      <td>120</td>\n",
       "      <td>0</td>\n",
       "      <td>1</td>\n",
       "      <td>Normal</td>\n",
       "      <td>141</td>\n",
       "      <td>Y</td>\n",
       "      <td>2.0</td>\n",
       "      <td>Up</td>\n",
       "      <td>1</td>\n",
       "    </tr>\n",
       "    <tr>\n",
       "      <th>799</th>\n",
       "      <td>53</td>\n",
       "      <td>M</td>\n",
       "      <td>NAP</td>\n",
       "      <td>130</td>\n",
       "      <td>246</td>\n",
       "      <td>1</td>\n",
       "      <td>LVH</td>\n",
       "      <td>173</td>\n",
       "      <td>N</td>\n",
       "      <td>0.0</td>\n",
       "      <td>Up</td>\n",
       "      <td>0</td>\n",
       "    </tr>\n",
       "    <tr>\n",
       "      <th>173</th>\n",
       "      <td>49</td>\n",
       "      <td>M</td>\n",
       "      <td>NAP</td>\n",
       "      <td>140</td>\n",
       "      <td>187</td>\n",
       "      <td>0</td>\n",
       "      <td>Normal</td>\n",
       "      <td>172</td>\n",
       "      <td>N</td>\n",
       "      <td>0.0</td>\n",
       "      <td>Up</td>\n",
       "      <td>0</td>\n",
       "    </tr>\n",
       "    <tr>\n",
       "      <th>391</th>\n",
       "      <td>70</td>\n",
       "      <td>M</td>\n",
       "      <td>ASY</td>\n",
       "      <td>115</td>\n",
       "      <td>0</td>\n",
       "      <td>0</td>\n",
       "      <td>ST</td>\n",
       "      <td>92</td>\n",
       "      <td>Y</td>\n",
       "      <td>0.0</td>\n",
       "      <td>Flat</td>\n",
       "      <td>1</td>\n",
       "    </tr>\n",
       "    <tr>\n",
       "      <th>200</th>\n",
       "      <td>47</td>\n",
       "      <td>M</td>\n",
       "      <td>TA</td>\n",
       "      <td>110</td>\n",
       "      <td>249</td>\n",
       "      <td>0</td>\n",
       "      <td>Normal</td>\n",
       "      <td>150</td>\n",
       "      <td>N</td>\n",
       "      <td>0.0</td>\n",
       "      <td>Up</td>\n",
       "      <td>0</td>\n",
       "    </tr>\n",
       "    <tr>\n",
       "      <th>48</th>\n",
       "      <td>36</td>\n",
       "      <td>M</td>\n",
       "      <td>NAP</td>\n",
       "      <td>112</td>\n",
       "      <td>340</td>\n",
       "      <td>0</td>\n",
       "      <td>Normal</td>\n",
       "      <td>184</td>\n",
       "      <td>N</td>\n",
       "      <td>1.0</td>\n",
       "      <td>Flat</td>\n",
       "      <td>0</td>\n",
       "    </tr>\n",
       "    <tr>\n",
       "      <th>696</th>\n",
       "      <td>35</td>\n",
       "      <td>M</td>\n",
       "      <td>ASY</td>\n",
       "      <td>120</td>\n",
       "      <td>198</td>\n",
       "      <td>0</td>\n",
       "      <td>Normal</td>\n",
       "      <td>130</td>\n",
       "      <td>Y</td>\n",
       "      <td>1.6</td>\n",
       "      <td>Flat</td>\n",
       "      <td>1</td>\n",
       "    </tr>\n",
       "    <tr>\n",
       "      <th>838</th>\n",
       "      <td>63</td>\n",
       "      <td>M</td>\n",
       "      <td>ASY</td>\n",
       "      <td>130</td>\n",
       "      <td>330</td>\n",
       "      <td>1</td>\n",
       "      <td>LVH</td>\n",
       "      <td>132</td>\n",
       "      <td>Y</td>\n",
       "      <td>1.8</td>\n",
       "      <td>Up</td>\n",
       "      <td>1</td>\n",
       "    </tr>\n",
       "    <tr>\n",
       "      <th>269</th>\n",
       "      <td>47</td>\n",
       "      <td>F</td>\n",
       "      <td>NAP</td>\n",
       "      <td>130</td>\n",
       "      <td>235</td>\n",
       "      <td>0</td>\n",
       "      <td>Normal</td>\n",
       "      <td>145</td>\n",
       "      <td>N</td>\n",
       "      <td>2.0</td>\n",
       "      <td>Flat</td>\n",
       "      <td>0</td>\n",
       "    </tr>\n",
       "  </tbody>\n",
       "</table>\n",
       "</div>"
      ],
      "text/plain": [
       "     Age Sex ChestPainType  RestingBP  Cholesterol  FastingBS RestingECG  \\\n",
       "428   62   M           ASY        110            0          0     Normal   \n",
       "424   60   M           NAP        120            0          1     Normal   \n",
       "799   53   M           NAP        130          246          1        LVH   \n",
       "173   49   M           NAP        140          187          0     Normal   \n",
       "391   70   M           ASY        115            0          0         ST   \n",
       "200   47   M            TA        110          249          0     Normal   \n",
       "48    36   M           NAP        112          340          0     Normal   \n",
       "696   35   M           ASY        120          198          0     Normal   \n",
       "838   63   M           ASY        130          330          1        LVH   \n",
       "269   47   F           NAP        130          235          0     Normal   \n",
       "\n",
       "     MaxHR ExerciseAngina  Oldpeak ST_Slope  HeartDisease  \n",
       "428    120              Y      0.5     Flat             1  \n",
       "424    141              Y      2.0       Up             1  \n",
       "799    173              N      0.0       Up             0  \n",
       "173    172              N      0.0       Up             0  \n",
       "391     92              Y      0.0     Flat             1  \n",
       "200    150              N      0.0       Up             0  \n",
       "48     184              N      1.0     Flat             0  \n",
       "696    130              Y      1.6     Flat             1  \n",
       "838    132              Y      1.8       Up             1  \n",
       "269    145              N      2.0     Flat             0  "
      ]
     },
     "execution_count": 29,
     "metadata": {},
     "output_type": "execute_result"
    }
   ],
   "source": [
    "train.head(10)"
   ]
  },
  {
   "cell_type": "code",
   "execution_count": 30,
   "id": "7a4b0ba3",
   "metadata": {},
   "outputs": [
    {
     "data": {
      "text/html": [
       "<div>\n",
       "<style scoped>\n",
       "    .dataframe tbody tr th:only-of-type {\n",
       "        vertical-align: middle;\n",
       "    }\n",
       "\n",
       "    .dataframe tbody tr th {\n",
       "        vertical-align: top;\n",
       "    }\n",
       "\n",
       "    .dataframe thead th {\n",
       "        text-align: right;\n",
       "    }\n",
       "</style>\n",
       "<table border=\"1\" class=\"dataframe\">\n",
       "  <thead>\n",
       "    <tr style=\"text-align: right;\">\n",
       "      <th></th>\n",
       "      <th>Age</th>\n",
       "      <th>RestingBP</th>\n",
       "      <th>Cholesterol</th>\n",
       "      <th>FastingBS</th>\n",
       "      <th>MaxHR</th>\n",
       "      <th>Oldpeak</th>\n",
       "      <th>HeartDisease</th>\n",
       "    </tr>\n",
       "  </thead>\n",
       "  <tbody>\n",
       "    <tr>\n",
       "      <th>count</th>\n",
       "      <td>734.000000</td>\n",
       "      <td>734.000000</td>\n",
       "      <td>734.000000</td>\n",
       "      <td>734.000000</td>\n",
       "      <td>734.000000</td>\n",
       "      <td>734.000000</td>\n",
       "      <td>734.000000</td>\n",
       "    </tr>\n",
       "    <tr>\n",
       "      <th>mean</th>\n",
       "      <td>53.486376</td>\n",
       "      <td>132.291553</td>\n",
       "      <td>198.416894</td>\n",
       "      <td>0.224796</td>\n",
       "      <td>137.328338</td>\n",
       "      <td>0.887193</td>\n",
       "      <td>0.549046</td>\n",
       "    </tr>\n",
       "    <tr>\n",
       "      <th>std</th>\n",
       "      <td>9.393720</td>\n",
       "      <td>18.846099</td>\n",
       "      <td>108.277374</td>\n",
       "      <td>0.417732</td>\n",
       "      <td>25.165099</td>\n",
       "      <td>1.076070</td>\n",
       "      <td>0.497928</td>\n",
       "    </tr>\n",
       "    <tr>\n",
       "      <th>min</th>\n",
       "      <td>28.000000</td>\n",
       "      <td>0.000000</td>\n",
       "      <td>0.000000</td>\n",
       "      <td>0.000000</td>\n",
       "      <td>60.000000</td>\n",
       "      <td>-2.600000</td>\n",
       "      <td>0.000000</td>\n",
       "    </tr>\n",
       "    <tr>\n",
       "      <th>25%</th>\n",
       "      <td>47.000000</td>\n",
       "      <td>120.000000</td>\n",
       "      <td>175.000000</td>\n",
       "      <td>0.000000</td>\n",
       "      <td>120.000000</td>\n",
       "      <td>0.000000</td>\n",
       "      <td>0.000000</td>\n",
       "    </tr>\n",
       "    <tr>\n",
       "      <th>50%</th>\n",
       "      <td>54.000000</td>\n",
       "      <td>130.000000</td>\n",
       "      <td>221.000000</td>\n",
       "      <td>0.000000</td>\n",
       "      <td>138.500000</td>\n",
       "      <td>0.600000</td>\n",
       "      <td>1.000000</td>\n",
       "    </tr>\n",
       "    <tr>\n",
       "      <th>75%</th>\n",
       "      <td>60.000000</td>\n",
       "      <td>140.000000</td>\n",
       "      <td>267.750000</td>\n",
       "      <td>0.000000</td>\n",
       "      <td>155.000000</td>\n",
       "      <td>1.500000</td>\n",
       "      <td>1.000000</td>\n",
       "    </tr>\n",
       "    <tr>\n",
       "      <th>max</th>\n",
       "      <td>77.000000</td>\n",
       "      <td>200.000000</td>\n",
       "      <td>603.000000</td>\n",
       "      <td>1.000000</td>\n",
       "      <td>202.000000</td>\n",
       "      <td>6.200000</td>\n",
       "      <td>1.000000</td>\n",
       "    </tr>\n",
       "  </tbody>\n",
       "</table>\n",
       "</div>"
      ],
      "text/plain": [
       "              Age   RestingBP  Cholesterol   FastingBS       MaxHR  \\\n",
       "count  734.000000  734.000000   734.000000  734.000000  734.000000   \n",
       "mean    53.486376  132.291553   198.416894    0.224796  137.328338   \n",
       "std      9.393720   18.846099   108.277374    0.417732   25.165099   \n",
       "min     28.000000    0.000000     0.000000    0.000000   60.000000   \n",
       "25%     47.000000  120.000000   175.000000    0.000000  120.000000   \n",
       "50%     54.000000  130.000000   221.000000    0.000000  138.500000   \n",
       "75%     60.000000  140.000000   267.750000    0.000000  155.000000   \n",
       "max     77.000000  200.000000   603.000000    1.000000  202.000000   \n",
       "\n",
       "          Oldpeak  HeartDisease  \n",
       "count  734.000000    734.000000  \n",
       "mean     0.887193      0.549046  \n",
       "std      1.076070      0.497928  \n",
       "min     -2.600000      0.000000  \n",
       "25%      0.000000      0.000000  \n",
       "50%      0.600000      1.000000  \n",
       "75%      1.500000      1.000000  \n",
       "max      6.200000      1.000000  "
      ]
     },
     "execution_count": 30,
     "metadata": {},
     "output_type": "execute_result"
    }
   ],
   "source": [
    "train.describe()"
   ]
  },
  {
   "cell_type": "code",
   "execution_count": 31,
   "id": "6a07c2e9",
   "metadata": {},
   "outputs": [
    {
     "name": "stdout",
     "output_type": "stream",
     "text": [
      "<class 'pandas.core.frame.DataFrame'>\n",
      "Int64Index: 734 entries, 428 to 831\n",
      "Data columns (total 12 columns):\n",
      " #   Column          Non-Null Count  Dtype  \n",
      "---  ------          --------------  -----  \n",
      " 0   Age             734 non-null    int64  \n",
      " 1   Sex             734 non-null    object \n",
      " 2   ChestPainType   734 non-null    object \n",
      " 3   RestingBP       734 non-null    int64  \n",
      " 4   Cholesterol     734 non-null    int64  \n",
      " 5   FastingBS       734 non-null    int64  \n",
      " 6   RestingECG      734 non-null    object \n",
      " 7   MaxHR           734 non-null    int64  \n",
      " 8   ExerciseAngina  734 non-null    object \n",
      " 9   Oldpeak         734 non-null    float64\n",
      " 10  ST_Slope        734 non-null    object \n",
      " 11  HeartDisease    734 non-null    int64  \n",
      "dtypes: float64(1), int64(6), object(5)\n",
      "memory usage: 74.5+ KB\n",
      "None\n"
     ]
    }
   ],
   "source": [
    "print(train.info())"
   ]
  },
  {
   "cell_type": "markdown",
   "id": "6a92b912",
   "metadata": {},
   "source": [
    "As we can see, there are no null values, so there is no need to handle missing values."
   ]
  },
  {
   "cell_type": "code",
   "execution_count": 32,
   "id": "e273d12d",
   "metadata": {
    "scrolled": true
   },
   "outputs": [
    {
     "data": {
      "text/plain": [
       "1    403\n",
       "0    331\n",
       "Name: HeartDisease, dtype: int64"
      ]
     },
     "execution_count": 32,
     "metadata": {},
     "output_type": "execute_result"
    }
   ],
   "source": [
    "train['HeartDisease'].value_counts()"
   ]
  },
  {
   "cell_type": "code",
   "execution_count": 33,
   "id": "06c0fa51",
   "metadata": {
    "scrolled": true
   },
   "outputs": [
    {
     "data": {
      "image/png": "[encoded data removed]",
      "text/plain": [
       "<Figure size 1080x360 with 2 Axes>"
      ]
     },
     "metadata": {
      "needs_background": "light"
     },
     "output_type": "display_data"
    }
   ],
   "source": [
    "f,ax=plt.subplots(1,2,figsize=(15,5))\n",
    "sns.countplot(x=\"HeartDisease\", hue=\"Sex\", data=train,ax=ax[0])\n",
    "ax[0].set_title('Heart Disease')\n",
    "sns.countplot('HeartDisease',data=train,ax=ax[1])\n",
    "ax[1].set_title('Heart Disease')\n",
    "plt.show()"
   ]
  },
  {
   "cell_type": "code",
   "execution_count": 34,
   "id": "a12a2b9e",
   "metadata": {},
   "outputs": [
    {
     "data": {
      "text/plain": [
       "Sex  HeartDisease\n",
       "F    0               119\n",
       "     1                44\n",
       "M    0               212\n",
       "     1               359\n",
       "Name: HeartDisease, dtype: int64"
      ]
     },
     "execution_count": 34,
     "metadata": {},
     "output_type": "execute_result"
    }
   ],
   "source": [
    "train.groupby(['Sex','HeartDisease'])['HeartDisease'].count()"
   ]
  },
  {
   "cell_type": "markdown",
   "id": "1cfb10dc",
   "metadata": {},
   "source": [
    "We can say that the data is balanced․ Also it seems taht men are more likely to have heart disease. In our case, 63% of male patients have heart disease and only 27% of female patients ․ But also we must take into account that in our case the number of male patients is significantly higher (78%). So I consider that this is important feature.\n",
    "I change it from categoric to numerical."
   ]
  },
  {
   "cell_type": "code",
   "execution_count": 35,
   "id": "248ec498",
   "metadata": {},
   "outputs": [],
   "source": [
    "train['Sex']=[0 if x == 'F' else 1 for x in train['Sex']] "
   ]
  },
  {
   "cell_type": "markdown",
   "id": "506b0daf",
   "metadata": {},
   "source": [
    "Let's understand other categoric features."
   ]
  },
  {
   "cell_type": "code",
   "execution_count": 36,
   "id": "333a8b3b",
   "metadata": {},
   "outputs": [
    {
     "data": {
      "text/plain": [
       "['ChestPainType', 'RestingECG', 'ExerciseAngina', 'ST_Slope']"
      ]
     },
     "execution_count": 36,
     "metadata": {},
     "output_type": "execute_result"
    }
   ],
   "source": [
    "categoric_fs=[i for i in train.columns if train.dtypes[i]=='object']\n",
    "categoric_fs"
   ]
  },
  {
   "cell_type": "code",
   "execution_count": 37,
   "id": "1b9c7230",
   "metadata": {},
   "outputs": [
    {
     "data": {
      "text/plain": [
       "ChestPainType     4\n",
       "RestingECG        3\n",
       "ExerciseAngina    2\n",
       "ST_Slope          3\n",
       "dtype: int64"
      ]
     },
     "execution_count": 37,
     "metadata": {},
     "output_type": "execute_result"
    }
   ],
   "source": [
    "train[categoric_fs].nunique()"
   ]
  },
  {
   "cell_type": "markdown",
   "id": "7de6b2fc",
   "metadata": {},
   "source": [
    "Let's plot categoric features with label. "
   ]
  },
  {
   "cell_type": "code",
   "execution_count": 38,
   "id": "c586e156",
   "metadata": {
    "scrolled": true
   },
   "outputs": [
    {
     "data": {
      "image/png": "[encoded data removed]",
      "text/plain": [
       "<Figure size 720x720 with 4 Axes>"
      ]
     },
     "metadata": {
      "needs_background": "light"
     },
     "output_type": "display_data"
    }
   ],
   "source": [
    "f,ax=plt.subplots(2,2,figsize=(10,10))\n",
    "sns.countplot(x=\"HeartDisease\", hue=\"ST_Slope\", data=train,ax=ax[0][0])\n",
    "sns.countplot('HeartDisease',hue=\"ChestPainType\",data=train,ax=ax[0][1])\n",
    "sns.countplot('HeartDisease',hue=\"ExerciseAngina\",data=train,ax=ax[1][0])\n",
    "sns.countplot('HeartDisease',hue=\"RestingECG\",data=train,ax=ax[1][1])\n",
    "plt.show()"
   ]
  },
  {
   "cell_type": "markdown",
   "id": "3f12df00",
   "metadata": {},
   "source": [
    "We can see that some of these features are more informative than the others.For example we can see that the patient who has 'ASY' chest pain type is more likely to have a heart desease."
   ]
  },
  {
   "cell_type": "code",
   "execution_count": 39,
   "id": "46c7f3d3",
   "metadata": {},
   "outputs": [
    {
     "data": {
      "text/plain": [
       "ChestPainType  HeartDisease\n",
       "ASY            0                86\n",
       "               1               309\n",
       "ATA            0               119\n",
       "               1                21\n",
       "NAP            0               106\n",
       "               1                54\n",
       "TA             0                20\n",
       "               1                19\n",
       "Name: HeartDisease, dtype: int64"
      ]
     },
     "execution_count": 39,
     "metadata": {},
     "output_type": "execute_result"
    }
   ],
   "source": [
    "train.groupby(['ChestPainType','HeartDisease'])['HeartDisease'].count()"
   ]
  },
  {
   "cell_type": "markdown",
   "id": "7b9e4ebb",
   "metadata": {},
   "source": [
    "From our 403 heart disease cases 309 (77%) of them has a 'ASY' chest pain type. And only 5% has 'ATA' type. There is a big difference․ Same is for 'ST_Slope' feature."
   ]
  },
  {
   "cell_type": "code",
   "execution_count": 40,
   "id": "c7158d0e",
   "metadata": {},
   "outputs": [
    {
     "data": {
      "text/plain": [
       "ST_Slope  HeartDisease\n",
       "Down      0                 8\n",
       "          1                40\n",
       "Flat      0                69\n",
       "          1               297\n",
       "Up        0               254\n",
       "          1                66\n",
       "Name: HeartDisease, dtype: int64"
      ]
     },
     "execution_count": 40,
     "metadata": {},
     "output_type": "execute_result"
    }
   ],
   "source": [
    "train.groupby(['ST_Slope','HeartDisease'])['HeartDisease'].count()"
   ]
  },
  {
   "cell_type": "markdown",
   "id": "218cca12",
   "metadata": {},
   "source": [
    "I consider that simple label encoding for these categoric features is not the best aproach but it is simple and fast and there is no need to deeply explore features so I  am going to use it."
   ]
  },
  {
   "cell_type": "code",
   "execution_count": 42,
   "id": "f805fc5e",
   "metadata": {},
   "outputs": [
    {
     "data": {
      "text/plain": [
       "Age                  int64\n",
       "Sex               category\n",
       "ChestPainType     category\n",
       "RestingBP            int64\n",
       "Cholesterol          int64\n",
       "FastingBS            int64\n",
       "RestingECG        category\n",
       "MaxHR                int64\n",
       "ExerciseAngina    category\n",
       "Oldpeak            float64\n",
       "ST_Slope          category\n",
       "HeartDisease         int64\n",
       "dtype: object"
      ]
     },
     "execution_count": 42,
     "metadata": {},
     "output_type": "execute_result"
    }
   ],
   "source": [
    "categoric_fs=[i for i in train.columns if train.dtypes[i]=='object']\n",
    "train[categoric_fs] = train[categoric_fs].astype('category')\n",
    "train.dtypes"
   ]
  },
  {
   "cell_type": "code",
   "execution_count": 43,
   "id": "89a51d5a",
   "metadata": {},
   "outputs": [],
   "source": [
    "for i in categoric_fs:\n",
    "    train[i] = train[i].cat.codes"
   ]
  },
  {
   "cell_type": "code",
   "execution_count": 44,
   "id": "0fa82e3d",
   "metadata": {},
   "outputs": [
    {
     "data": {
      "text/html": [
       "<div>\n",
       "<style scoped>\n",
       "    .dataframe tbody tr th:only-of-type {\n",
       "        vertical-align: middle;\n",
       "    }\n",
       "\n",
       "    .dataframe tbody tr th {\n",
       "        vertical-align: top;\n",
       "    }\n",
       "\n",
       "    .dataframe thead th {\n",
       "        text-align: right;\n",
       "    }\n",
       "</style>\n",
       "<table border=\"1\" class=\"dataframe\">\n",
       "  <thead>\n",
       "    <tr style=\"text-align: right;\">\n",
       "      <th></th>\n",
       "      <th>Age</th>\n",
       "      <th>Sex</th>\n",
       "      <th>ChestPainType</th>\n",
       "      <th>RestingBP</th>\n",
       "      <th>Cholesterol</th>\n",
       "      <th>FastingBS</th>\n",
       "      <th>RestingECG</th>\n",
       "      <th>MaxHR</th>\n",
       "      <th>ExerciseAngina</th>\n",
       "      <th>Oldpeak</th>\n",
       "      <th>ST_Slope</th>\n",
       "      <th>HeartDisease</th>\n",
       "    </tr>\n",
       "  </thead>\n",
       "  <tbody>\n",
       "    <tr>\n",
       "      <th>428</th>\n",
       "      <td>62</td>\n",
       "      <td>1</td>\n",
       "      <td>0</td>\n",
       "      <td>110</td>\n",
       "      <td>0</td>\n",
       "      <td>0</td>\n",
       "      <td>1</td>\n",
       "      <td>120</td>\n",
       "      <td>1</td>\n",
       "      <td>0.5</td>\n",
       "      <td>1</td>\n",
       "      <td>1</td>\n",
       "    </tr>\n",
       "    <tr>\n",
       "      <th>424</th>\n",
       "      <td>60</td>\n",
       "      <td>1</td>\n",
       "      <td>2</td>\n",
       "      <td>120</td>\n",
       "      <td>0</td>\n",
       "      <td>1</td>\n",
       "      <td>1</td>\n",
       "      <td>141</td>\n",
       "      <td>1</td>\n",
       "      <td>2.0</td>\n",
       "      <td>2</td>\n",
       "      <td>1</td>\n",
       "    </tr>\n",
       "    <tr>\n",
       "      <th>799</th>\n",
       "      <td>53</td>\n",
       "      <td>1</td>\n",
       "      <td>2</td>\n",
       "      <td>130</td>\n",
       "      <td>246</td>\n",
       "      <td>1</td>\n",
       "      <td>0</td>\n",
       "      <td>173</td>\n",
       "      <td>0</td>\n",
       "      <td>0.0</td>\n",
       "      <td>2</td>\n",
       "      <td>0</td>\n",
       "    </tr>\n",
       "    <tr>\n",
       "      <th>173</th>\n",
       "      <td>49</td>\n",
       "      <td>1</td>\n",
       "      <td>2</td>\n",
       "      <td>140</td>\n",
       "      <td>187</td>\n",
       "      <td>0</td>\n",
       "      <td>1</td>\n",
       "      <td>172</td>\n",
       "      <td>0</td>\n",
       "      <td>0.0</td>\n",
       "      <td>2</td>\n",
       "      <td>0</td>\n",
       "    </tr>\n",
       "    <tr>\n",
       "      <th>391</th>\n",
       "      <td>70</td>\n",
       "      <td>1</td>\n",
       "      <td>0</td>\n",
       "      <td>115</td>\n",
       "      <td>0</td>\n",
       "      <td>0</td>\n",
       "      <td>2</td>\n",
       "      <td>92</td>\n",
       "      <td>1</td>\n",
       "      <td>0.0</td>\n",
       "      <td>1</td>\n",
       "      <td>1</td>\n",
       "    </tr>\n",
       "  </tbody>\n",
       "</table>\n",
       "</div>"
      ],
      "text/plain": [
       "     Age  Sex  ChestPainType  RestingBP  Cholesterol  FastingBS  RestingECG  \\\n",
       "428   62    1              0        110            0          0           1   \n",
       "424   60    1              2        120            0          1           1   \n",
       "799   53    1              2        130          246          1           0   \n",
       "173   49    1              2        140          187          0           1   \n",
       "391   70    1              0        115            0          0           2   \n",
       "\n",
       "     MaxHR  ExerciseAngina  Oldpeak  ST_Slope  HeartDisease  \n",
       "428    120               1      0.5         1             1  \n",
       "424    141               1      2.0         2             1  \n",
       "799    173               0      0.0         2             0  \n",
       "173    172               0      0.0         2             0  \n",
       "391     92               1      0.0         1             1  "
      ]
     },
     "execution_count": 44,
     "metadata": {},
     "output_type": "execute_result"
    }
   ],
   "source": [
    "train.head()"
   ]
  },
  {
   "cell_type": "markdown",
   "id": "0b6bfb2c",
   "metadata": {},
   "source": [
    "There is no more categoric features in our dataset so we can already try some models.\n",
    "I will use gride sarch method on out train data and find the best classifier based on the accuracy."
   ]
  },
  {
   "cell_type": "markdown",
   "id": "8094752e",
   "metadata": {},
   "source": [
    "## Finding best model with GridSearch"
   ]
  },
  {
   "cell_type": "code",
   "execution_count": 45,
   "id": "3c589d64",
   "metadata": {},
   "outputs": [],
   "source": [
    "from sklearn.model_selection import GridSearchCV"
   ]
  },
  {
   "cell_type": "code",
   "execution_count": 46,
   "id": "659dca08",
   "metadata": {},
   "outputs": [],
   "source": [
    "xTrain=train[['Age','Sex','ChestPainType','RestingBP','Cholesterol','FastingBS','RestingECG','MaxHR','ExerciseAngina','Oldpeak','ST_Slope']]\n",
    "yTrain=train['HeartDisease']"
   ]
  },
  {
   "cell_type": "markdown",
   "id": "053a88ba",
   "metadata": {},
   "source": [
    "## SVM"
   ]
  },
  {
   "cell_type": "code",
   "execution_count": 503,
   "id": "db7a3c83",
   "metadata": {},
   "outputs": [],
   "source": [
    "from sklearn.svm import SVC\n",
    "svc=SVC()\n",
    "parameters = {'kernel':('poly','rbf'), 'degree':[3,4,5],'C':[10,100,1000],'class_weight':('balanced',None)}"
   ]
  },
  {
   "cell_type": "code",
   "execution_count": 504,
   "id": "85145b49",
   "metadata": {},
   "outputs": [],
   "source": [
    "from sklearn import preprocessing\n",
    "scaler = preprocessing.StandardScaler().fit(xTrain)\n",
    "xTrain1=scaler.transform(xTrain)"
   ]
  },
  {
   "cell_type": "code",
   "execution_count": 505,
   "id": "d75a50a2",
   "metadata": {},
   "outputs": [],
   "source": [
    "clf1=GridSearchCV(estimator=svc,param_grid=parameters)"
   ]
  },
  {
   "cell_type": "code",
   "execution_count": 506,
   "id": "e09af3d7",
   "metadata": {},
   "outputs": [
    {
     "data": {
      "text/plain": [
       "GridSearchCV(estimator=SVC(),\n",
       "             param_grid={'C': [10, 100, 1000],\n",
       "                         'class_weight': ('balanced', None),\n",
       "                         'degree': [3, 4, 5], 'kernel': ('poly', 'rbf')})"
      ]
     },
     "execution_count": 506,
     "metadata": {},
     "output_type": "execute_result"
    }
   ],
   "source": [
    "clf1.fit(xTrain1,yTrain)"
   ]
  },
  {
   "cell_type": "code",
   "execution_count": 507,
   "id": "cfeea6f2",
   "metadata": {},
   "outputs": [
    {
     "data": {
      "text/plain": [
       "0.848783897120492"
      ]
     },
     "execution_count": 507,
     "metadata": {},
     "output_type": "execute_result"
    }
   ],
   "source": [
    "clf1.best_score_"
   ]
  },
  {
   "cell_type": "code",
   "execution_count": 508,
   "id": "826249cc",
   "metadata": {},
   "outputs": [
    {
     "data": {
      "text/plain": [
       "{'C': 10, 'class_weight': None, 'degree': 3, 'kernel': 'rbf'}"
      ]
     },
     "execution_count": 508,
     "metadata": {},
     "output_type": "execute_result"
    }
   ],
   "source": [
    "clf1.best_params_"
   ]
  },
  {
   "cell_type": "markdown",
   "id": "99265885",
   "metadata": {},
   "source": [
    "## Random Forest¶"
   ]
  },
  {
   "cell_type": "code",
   "execution_count": 368,
   "id": "19ebad4a",
   "metadata": {},
   "outputs": [],
   "source": [
    "from sklearn.ensemble import RandomForestClassifier"
   ]
  },
  {
   "cell_type": "code",
   "execution_count": 369,
   "id": "8adfd666",
   "metadata": {},
   "outputs": [],
   "source": [
    "rm=RandomForestClassifier()\n",
    "parameters={'class_weight':('balanced','balanced_subsample',None),'criterion':('gini', 'entropy'),'max_depth':[3,5,10],'min_samples_leaf':[1,3,5],'bootstrap':[True,False]}"
   ]
  },
  {
   "cell_type": "code",
   "execution_count": 370,
   "id": "abbc9dc6",
   "metadata": {},
   "outputs": [],
   "source": [
    "clf2=GridSearchCV(estimator=rm,param_grid=parameters)"
   ]
  },
  {
   "cell_type": "code",
   "execution_count": 371,
   "id": "df8fb1e7",
   "metadata": {},
   "outputs": [
    {
     "data": {
      "text/plain": [
       "GridSearchCV(estimator=RandomForestClassifier(),\n",
       "             param_grid={'bootstrap': [True, False],\n",
       "                         'class_weight': ('balanced', 'balanced_subsample',\n",
       "                                          None),\n",
       "                         'criterion': ('gini', 'entropy'),\n",
       "                         'max_depth': [3, 5, 10],\n",
       "                         'min_samples_leaf': [1, 3, 5]})"
      ]
     },
     "execution_count": 371,
     "metadata": {},
     "output_type": "execute_result"
    }
   ],
   "source": [
    "clf2.fit(xTrain,yTrain)"
   ]
  },
  {
   "cell_type": "code",
   "execution_count": 372,
   "id": "d6c16f28",
   "metadata": {},
   "outputs": [
    {
     "data": {
      "text/plain": [
       "0.8665175659304818"
      ]
     },
     "execution_count": 372,
     "metadata": {},
     "output_type": "execute_result"
    }
   ],
   "source": [
    "clf2.best_score_"
   ]
  },
  {
   "cell_type": "code",
   "execution_count": 373,
   "id": "a6fe2e53",
   "metadata": {},
   "outputs": [
    {
     "data": {
      "text/plain": [
       "{'bootstrap': True,\n",
       " 'class_weight': None,\n",
       " 'criterion': 'entropy',\n",
       " 'max_depth': 10,\n",
       " 'min_samples_leaf': 1}"
      ]
     },
     "execution_count": 373,
     "metadata": {},
     "output_type": "execute_result"
    }
   ],
   "source": [
    "clf2.best_params_"
   ]
  },
  {
   "cell_type": "markdown",
   "id": "cb5520ea",
   "metadata": {},
   "source": [
    "## AdaBoost"
   ]
  },
  {
   "cell_type": "code",
   "execution_count": 38,
   "id": "f6852a09",
   "metadata": {},
   "outputs": [],
   "source": [
    "from sklearn.ensemble import AdaBoostClassifier\n",
    "adb=AdaBoostClassifier()\n",
    "parameters={'learning_rate':[0.1,0.01,0.08,0.05],'n_estimators':[50,300,150]}"
   ]
  },
  {
   "cell_type": "code",
   "execution_count": 431,
   "id": "ccbb6a98",
   "metadata": {},
   "outputs": [],
   "source": [
    "clf3=GridSearchCV(estimator=adb,param_grid=parameters)"
   ]
  },
  {
   "cell_type": "code",
   "execution_count": 432,
   "id": "946e9237",
   "metadata": {
    "scrolled": true
   },
   "outputs": [
    {
     "data": {
      "text/plain": [
       "GridSearchCV(estimator=AdaBoostClassifier(),\n",
       "             param_grid={'learning_rate': [0.1, 0.01, 0.08, 0.05],\n",
       "                         'n_estimators': [50, 300, 150]})"
      ]
     },
     "execution_count": 432,
     "metadata": {},
     "output_type": "execute_result"
    }
   ],
   "source": [
    "clf3.fit(xTrain,yTrain)"
   ]
  },
  {
   "cell_type": "code",
   "execution_count": 433,
   "id": "73a5e7fe",
   "metadata": {},
   "outputs": [
    {
     "data": {
      "text/plain": [
       "0.8678501537601342"
      ]
     },
     "execution_count": 433,
     "metadata": {},
     "output_type": "execute_result"
    }
   ],
   "source": [
    "clf3.best_score_"
   ]
  },
  {
   "cell_type": "code",
   "execution_count": 434,
   "id": "4dbbd025",
   "metadata": {},
   "outputs": [
    {
     "data": {
      "text/plain": [
       "{'learning_rate': 0.05, 'n_estimators': 300}"
      ]
     },
     "execution_count": 434,
     "metadata": {},
     "output_type": "execute_result"
    }
   ],
   "source": [
    "clf3.best_params_"
   ]
  },
  {
   "cell_type": "markdown",
   "id": "73878ec4",
   "metadata": {},
   "source": [
    "## Neural network model"
   ]
  },
  {
   "cell_type": "code",
   "execution_count": 443,
   "id": "9b6c0819",
   "metadata": {},
   "outputs": [],
   "source": [
    "from sklearn.neural_network import MLPClassifier"
   ]
  },
  {
   "cell_type": "code",
   "execution_count": 444,
   "id": "09d8f3fa",
   "metadata": {},
   "outputs": [],
   "source": [
    "mlp = MLPClassifier()\n",
    "parameters={'solver':['lbfgs','adam'],'activation':['tanh', 'relu'],'learning_rate_init':[0.001,0.01,0.005,0.1],'learning_rate':['constant','adaptive']}"
   ]
  },
  {
   "cell_type": "code",
   "execution_count": 445,
   "id": "3f5845ea",
   "metadata": {},
   "outputs": [],
   "source": [
    "clf4=GridSearchCV(estimator=mlp,param_grid=parameters)"
   ]
  },
  {
   "cell_type": "code",
   "execution_count": 446,
   "id": "f78e6981",
   "metadata": {},
   "outputs": [
    {
     "data": {
      "text/plain": [
       "GridSearchCV(estimator=MLPClassifier(),\n",
       "             param_grid={'activation': ['tanh', 'relu'],\n",
       "                         'learning_rate': ['constant', 'adaptive'],\n",
       "                         'learning_rate_init': [0.001, 0.01, 0.005, 0.1],\n",
       "                         'solver': ['lbfgs', 'adam']})"
      ]
     },
     "execution_count": 446,
     "metadata": {},
     "output_type": "execute_result"
    }
   ],
   "source": [
    "clf4.fit(xTrain,yTrain)"
   ]
  },
  {
   "cell_type": "code",
   "execution_count": 447,
   "id": "e995ed14",
   "metadata": {},
   "outputs": [
    {
     "data": {
      "text/plain": [
       "0.847423352902805"
      ]
     },
     "execution_count": 447,
     "metadata": {},
     "output_type": "execute_result"
    }
   ],
   "source": [
    "clf4.best_score_"
   ]
  },
  {
   "cell_type": "code",
   "execution_count": 448,
   "id": "43bc3eb8",
   "metadata": {},
   "outputs": [
    {
     "data": {
      "text/plain": [
       "{'activation': 'relu',\n",
       " 'learning_rate': 'constant',\n",
       " 'learning_rate_init': 0.001,\n",
       " 'solver': 'lbfgs'}"
      ]
     },
     "execution_count": 448,
     "metadata": {},
     "output_type": "execute_result"
    }
   ],
   "source": [
    "clf4.best_params_"
   ]
  },
  {
   "cell_type": "markdown",
   "id": "c53e4b61",
   "metadata": {},
   "source": [
    "## KNN"
   ]
  },
  {
   "cell_type": "code",
   "execution_count": 65,
   "id": "647c6c51",
   "metadata": {},
   "outputs": [],
   "source": [
    "from sklearn.neighbors import KNeighborsClassifier\n",
    "from sklearn.preprocessing import normalize"
   ]
  },
  {
   "cell_type": "code",
   "execution_count": 66,
   "id": "1bb9406d",
   "metadata": {},
   "outputs": [],
   "source": [
    "xTrain_normilized=normalize(xTrain)"
   ]
  },
  {
   "cell_type": "code",
   "execution_count": 67,
   "id": "75a5a726",
   "metadata": {},
   "outputs": [],
   "source": [
    "knnclf = KNeighborsClassifier()\n",
    "parameters={'n_neighbors':[3,4,5,6,7],'weights':('uniform', 'distance'),'algorithm':('auto', 'ball_tree', 'brute')}"
   ]
  },
  {
   "cell_type": "code",
   "execution_count": 68,
   "id": "744a2fa7",
   "metadata": {},
   "outputs": [],
   "source": [
    "clf5=GridSearchCV(estimator=knnclf,param_grid=parameters)"
   ]
  },
  {
   "cell_type": "code",
   "execution_count": 69,
   "id": "01e137d4",
   "metadata": {},
   "outputs": [
    {
     "data": {
      "text/plain": [
       "GridSearchCV(estimator=KNeighborsClassifier(),\n",
       "             param_grid={'algorithm': ('auto', 'ball_tree', 'brute'),\n",
       "                         'n_neighbors': [3, 4, 5, 6, 7],\n",
       "                         'weights': ('uniform', 'distance')})"
      ]
     },
     "execution_count": 69,
     "metadata": {},
     "output_type": "execute_result"
    }
   ],
   "source": [
    "clf5.fit(xTrain_normilized,yTrain)"
   ]
  },
  {
   "cell_type": "code",
   "execution_count": 70,
   "id": "2a25c3cb",
   "metadata": {},
   "outputs": [
    {
     "data": {
      "text/plain": [
       "{'algorithm': 'auto', 'n_neighbors': 6, 'weights': 'distance'}"
      ]
     },
     "execution_count": 70,
     "metadata": {},
     "output_type": "execute_result"
    }
   ],
   "source": [
    "clf5.best_params_"
   ]
  },
  {
   "cell_type": "code",
   "execution_count": 71,
   "id": "16fa6c14",
   "metadata": {},
   "outputs": [
    {
     "data": {
      "text/plain": [
       "0.6961513372472277"
      ]
     },
     "execution_count": 71,
     "metadata": {},
     "output_type": "execute_result"
    }
   ],
   "source": [
    "clf5.best_score_"
   ]
  },
  {
   "cell_type": "markdown",
   "id": "51880768",
   "metadata": {},
   "source": [
    "## Ridge classifier"
   ]
  },
  {
   "cell_type": "code",
   "execution_count": 72,
   "id": "3bb4ac30",
   "metadata": {},
   "outputs": [],
   "source": [
    "from sklearn.linear_model import RidgeClassifier"
   ]
  },
  {
   "cell_type": "code",
   "execution_count": 73,
   "id": "9f754c4f",
   "metadata": {},
   "outputs": [],
   "source": [
    "ridgeclf=RidgeClassifier()\n",
    "parameters={'alpha':[0.01,0.1,1,10],'class_weight':('balanced',None),'solver':('auto','sag','svd'),'normalize':[True,False]}"
   ]
  },
  {
   "cell_type": "code",
   "execution_count": 74,
   "id": "eab3fa49",
   "metadata": {},
   "outputs": [],
   "source": [
    "clf6=GridSearchCV(estimator=ridgeclf,param_grid=parameters)"
   ]
  },
  {
   "cell_type": "code",
   "execution_count": 75,
   "id": "f006f249",
   "metadata": {},
   "outputs": [
    {
     "data": {
      "text/plain": [
       "GridSearchCV(estimator=RidgeClassifier(),\n",
       "             param_grid={'alpha': [0.01, 0.1, 1, 10],\n",
       "                         'class_weight': ('balanced', None),\n",
       "                         'normalize': [True, False],\n",
       "                         'solver': ('auto', 'sag', 'svd')})"
      ]
     },
     "execution_count": 75,
     "metadata": {},
     "output_type": "execute_result"
    }
   ],
   "source": [
    "clf6.fit(xTrain,yTrain)"
   ]
  },
  {
   "cell_type": "code",
   "execution_count": 76,
   "id": "bdef5675",
   "metadata": {},
   "outputs": [
    {
     "data": {
      "text/plain": [
       "0.8515049855558662"
      ]
     },
     "execution_count": 76,
     "metadata": {},
     "output_type": "execute_result"
    }
   ],
   "source": [
    "clf6.best_score_"
   ]
  },
  {
   "cell_type": "code",
   "execution_count": 77,
   "id": "4fdaa8da",
   "metadata": {},
   "outputs": [
    {
     "data": {
      "text/plain": [
       "{'alpha': 1, 'class_weight': 'balanced', 'normalize': True, 'solver': 'auto'}"
      ]
     },
     "execution_count": 77,
     "metadata": {},
     "output_type": "execute_result"
    }
   ],
   "source": [
    "clf6.best_params_"
   ]
  },
  {
   "cell_type": "markdown",
   "id": "2d2b3782",
   "metadata": {},
   "source": [
    "## Gradient Boosting Classifier"
   ]
  },
  {
   "cell_type": "code",
   "execution_count": 78,
   "id": "d9075bd6",
   "metadata": {},
   "outputs": [],
   "source": [
    "from sklearn.ensemble import GradientBoostingClassifier"
   ]
  },
  {
   "cell_type": "code",
   "execution_count": 79,
   "id": "90a882c5",
   "metadata": {},
   "outputs": [],
   "source": [
    "grdb=GradientBoostingClassifier()\n",
    "parameters={'loss':['deviance', 'exponential'],'learning_rate':[0.1,0.01,0.08,0.05],'n_estimators':[100,300,150],'criterion':['mae','friedman_mse']}"
   ]
  },
  {
   "cell_type": "code",
   "execution_count": 80,
   "id": "f7757061",
   "metadata": {},
   "outputs": [],
   "source": [
    "clf7=GridSearchCV(estimator=grdb,param_grid=parameters)"
   ]
  },
  {
   "cell_type": "code",
   "execution_count": 82,
   "id": "5cc04eb4",
   "metadata": {},
   "outputs": [
    {
     "data": {
      "text/plain": [
       "GridSearchCV(estimator=GradientBoostingClassifier(),\n",
       "             param_grid={'criterion': ['mae', 'friedman_mse'],\n",
       "                         'learning_rate': [0.1, 0.01, 0.08, 0.05],\n",
       "                         'loss': ['deviance', 'exponential'],\n",
       "                         'n_estimators': [100, 300, 150]})"
      ]
     },
     "execution_count": 82,
     "metadata": {},
     "output_type": "execute_result"
    }
   ],
   "source": [
    "clf7.fit(xTrain,yTrain)"
   ]
  },
  {
   "cell_type": "code",
   "execution_count": 83,
   "id": "de662935",
   "metadata": {},
   "outputs": [
    {
     "data": {
      "text/plain": [
       "0.8637778399030844"
      ]
     },
     "execution_count": 83,
     "metadata": {},
     "output_type": "execute_result"
    }
   ],
   "source": [
    "clf7.best_score_"
   ]
  },
  {
   "cell_type": "code",
   "execution_count": 84,
   "id": "601559a8",
   "metadata": {},
   "outputs": [
    {
     "data": {
      "text/plain": [
       "{'criterion': 'friedman_mse',\n",
       " 'learning_rate': 0.08,\n",
       " 'loss': 'exponential',\n",
       " 'n_estimators': 100}"
      ]
     },
     "execution_count": 84,
     "metadata": {},
     "output_type": "execute_result"
    }
   ],
   "source": [
    "clf7.best_params_"
   ]
  },
  {
   "cell_type": "markdown",
   "id": "b8e56baa",
   "metadata": {},
   "source": [
    "### Results for test data based on the best model"
   ]
  },
  {
   "cell_type": "markdown",
   "id": "b08ffe33",
   "metadata": {},
   "source": [
    "At first let's do the same changes for test data."
   ]
  },
  {
   "cell_type": "code",
   "execution_count": 47,
   "id": "b44cba84",
   "metadata": {},
   "outputs": [],
   "source": [
    "test['Sex']=[0 if x == 'F' else 1 for x in test['Sex']] "
   ]
  },
  {
   "cell_type": "code",
   "execution_count": 48,
   "id": "d680fffc",
   "metadata": {},
   "outputs": [],
   "source": [
    "categoric_fs=[i for i in test.columns if test.dtypes[i]=='object']\n",
    "test[categoric_fs] = test[categoric_fs].astype('category')"
   ]
  },
  {
   "cell_type": "code",
   "execution_count": 49,
   "id": "976f050a",
   "metadata": {},
   "outputs": [],
   "source": [
    "for i in categoric_fs:\n",
    "    test[i] = test[i].cat.codes\n"
   ]
  },
  {
   "cell_type": "code",
   "execution_count": 50,
   "id": "e106447e",
   "metadata": {},
   "outputs": [],
   "source": [
    "yTest=test['HeartDisease']    \n",
    "xTest=test[['Age','Sex','ChestPainType','RestingBP','Cholesterol','FastingBS','RestingECG','MaxHR','ExerciseAngina','Oldpeak','ST_Slope']]    "
   ]
  },
  {
   "cell_type": "code",
   "execution_count": 51,
   "id": "baeea447",
   "metadata": {},
   "outputs": [],
   "source": [
    "final_model=AdaBoostClassifier(learning_rate=0.05,n_estimators=300)"
   ]
  },
  {
   "cell_type": "code",
   "execution_count": 52,
   "id": "f2a504f6",
   "metadata": {},
   "outputs": [
    {
     "data": {
      "text/plain": [
       "AdaBoostClassifier(learning_rate=0.05, n_estimators=300)"
      ]
     },
     "execution_count": 52,
     "metadata": {},
     "output_type": "execute_result"
    }
   ],
   "source": [
    "final_model.fit(xTrain,yTrain)"
   ]
  },
  {
   "cell_type": "code",
   "execution_count": 53,
   "id": "7771bcd9",
   "metadata": {},
   "outputs": [],
   "source": [
    "predictions=final_model.predict(xTest)"
   ]
  },
  {
   "cell_type": "code",
   "execution_count": 54,
   "id": "d81811ae",
   "metadata": {
    "scrolled": true
   },
   "outputs": [],
   "source": [
    "from sklearn.metrics import confusion_matrix\n",
    "from sklearn.metrics import classification_report"
   ]
  },
  {
   "cell_type": "code",
   "execution_count": 55,
   "id": "8f4e43ee",
   "metadata": {},
   "outputs": [
    {
     "data": {
      "text/plain": [
       "1    105\n",
       "0     79\n",
       "Name: HeartDisease, dtype: int64"
      ]
     },
     "execution_count": 55,
     "metadata": {},
     "output_type": "execute_result"
    }
   ],
   "source": [
    "yTest.value_counts()"
   ]
  },
  {
   "cell_type": "code",
   "execution_count": 56,
   "id": "65c5673d",
   "metadata": {
    "scrolled": false
   },
   "outputs": [
    {
     "name": "stdout",
     "output_type": "stream",
     "text": [
      "                precision    recall  f1-score   support\n",
      "\n",
      "     Have a HD       0.86      0.80      0.83        79\n",
      "Dont have a HD       0.86      0.90      0.88       105\n",
      "\n",
      "      accuracy                           0.86       184\n",
      "     macro avg       0.86      0.85      0.85       184\n",
      "  weighted avg       0.86      0.86      0.86       184\n",
      "\n"
     ]
    }
   ],
   "source": [
    "target_names = ['Have a HD', 'Dont have a HD']\n",
    "print(classification_report(yTest,predictions, target_names=target_names))"
   ]
  },
  {
   "cell_type": "code",
   "execution_count": 57,
   "id": "ad6fbaf2",
   "metadata": {},
   "outputs": [
    {
     "data": {
      "image/png": "[encoded data removed]",
      "text/plain": [
       "<Figure size 432x288 with 2 Axes>"
      ]
     },
     "metadata": {
      "needs_background": "light"
     },
     "output_type": "display_data"
    }
   ],
   "source": [
    "from sklearn.metrics import plot_confusion_matrix\n",
    "plot_confusion_matrix(final_model, xTest, yTest)  \n",
    "plt.show()"
   ]
  },
  {
   "cell_type": "code",
   "execution_count": 58,
   "id": "6e9fd792",
   "metadata": {},
   "outputs": [
    {
     "data": {
      "image/png": "[encoded data removed]",
      "text/plain": [
       "<Figure size 432x288 with 1 Axes>"
      ]
     },
     "metadata": {
      "needs_background": "light"
     },
     "output_type": "display_data"
    }
   ],
   "source": [
    "from sklearn import metrics\n",
    "fpr, tpr, thresholds = metrics.roc_curve(yTest, predictions)\n",
    "roc_auc = metrics.auc(fpr, tpr)\n",
    "display = metrics.RocCurveDisplay(fpr=fpr, tpr=tpr, roc_auc=roc_auc, estimator_name='AdaBoost classifier')\n",
    "display.plot()\n",
    "plt.show()"
   ]
  },
  {
   "cell_type": "markdown",
   "id": "5b8da1f8",
   "metadata": {},
   "source": [
    "<br></br><br></br><br></br><br></br><br></br><br></br><br></br><br></br><br></br><br></br><br></br><br></br><br></br><br></br><br></br>"
   ]
  },
  {
   "cell_type": "markdown",
   "id": "3e5bfa82",
   "metadata": {},
   "source": [
    "Just for visualization"
   ]
  },
  {
   "cell_type": "code",
   "execution_count": 75,
   "id": "c9fb295a",
   "metadata": {},
   "outputs": [],
   "source": [
    "from sklearn.manifold import TSNE"
   ]
  },
  {
   "cell_type": "code",
   "execution_count": 76,
   "id": "9d1b3450",
   "metadata": {},
   "outputs": [
    {
     "data": {
      "text/html": [
       "<div>\n",
       "<style scoped>\n",
       "    .dataframe tbody tr th:only-of-type {\n",
       "        vertical-align: middle;\n",
       "    }\n",
       "\n",
       "    .dataframe tbody tr th {\n",
       "        vertical-align: top;\n",
       "    }\n",
       "\n",
       "    .dataframe thead th {\n",
       "        text-align: right;\n",
       "    }\n",
       "</style>\n",
       "<table border=\"1\" class=\"dataframe\">\n",
       "  <thead>\n",
       "    <tr style=\"text-align: right;\">\n",
       "      <th></th>\n",
       "      <th>Age</th>\n",
       "      <th>Sex</th>\n",
       "      <th>ChestPainType</th>\n",
       "      <th>RestingBP</th>\n",
       "      <th>Cholesterol</th>\n",
       "      <th>FastingBS</th>\n",
       "      <th>RestingECG</th>\n",
       "      <th>MaxHR</th>\n",
       "      <th>ExerciseAngina</th>\n",
       "      <th>Oldpeak</th>\n",
       "      <th>ST_Slope</th>\n",
       "    </tr>\n",
       "  </thead>\n",
       "  <tbody>\n",
       "    <tr>\n",
       "      <th>0</th>\n",
       "      <td>40</td>\n",
       "      <td>M</td>\n",
       "      <td>ATA</td>\n",
       "      <td>140</td>\n",
       "      <td>289</td>\n",
       "      <td>0</td>\n",
       "      <td>Normal</td>\n",
       "      <td>172</td>\n",
       "      <td>N</td>\n",
       "      <td>0.0</td>\n",
       "      <td>Up</td>\n",
       "    </tr>\n",
       "    <tr>\n",
       "      <th>1</th>\n",
       "      <td>49</td>\n",
       "      <td>F</td>\n",
       "      <td>NAP</td>\n",
       "      <td>160</td>\n",
       "      <td>180</td>\n",
       "      <td>0</td>\n",
       "      <td>Normal</td>\n",
       "      <td>156</td>\n",
       "      <td>N</td>\n",
       "      <td>1.0</td>\n",
       "      <td>Flat</td>\n",
       "    </tr>\n",
       "    <tr>\n",
       "      <th>2</th>\n",
       "      <td>37</td>\n",
       "      <td>M</td>\n",
       "      <td>ATA</td>\n",
       "      <td>130</td>\n",
       "      <td>283</td>\n",
       "      <td>0</td>\n",
       "      <td>ST</td>\n",
       "      <td>98</td>\n",
       "      <td>N</td>\n",
       "      <td>0.0</td>\n",
       "      <td>Up</td>\n",
       "    </tr>\n",
       "    <tr>\n",
       "      <th>3</th>\n",
       "      <td>48</td>\n",
       "      <td>F</td>\n",
       "      <td>ASY</td>\n",
       "      <td>138</td>\n",
       "      <td>214</td>\n",
       "      <td>0</td>\n",
       "      <td>Normal</td>\n",
       "      <td>108</td>\n",
       "      <td>Y</td>\n",
       "      <td>1.5</td>\n",
       "      <td>Flat</td>\n",
       "    </tr>\n",
       "    <tr>\n",
       "      <th>4</th>\n",
       "      <td>54</td>\n",
       "      <td>M</td>\n",
       "      <td>NAP</td>\n",
       "      <td>150</td>\n",
       "      <td>195</td>\n",
       "      <td>0</td>\n",
       "      <td>Normal</td>\n",
       "      <td>122</td>\n",
       "      <td>N</td>\n",
       "      <td>0.0</td>\n",
       "      <td>Up</td>\n",
       "    </tr>\n",
       "  </tbody>\n",
       "</table>\n",
       "</div>"
      ],
      "text/plain": [
       "   Age Sex ChestPainType  RestingBP  Cholesterol  FastingBS RestingECG  MaxHR  \\\n",
       "0   40   M           ATA        140          289          0     Normal    172   \n",
       "1   49   F           NAP        160          180          0     Normal    156   \n",
       "2   37   M           ATA        130          283          0         ST     98   \n",
       "3   48   F           ASY        138          214          0     Normal    108   \n",
       "4   54   M           NAP        150          195          0     Normal    122   \n",
       "\n",
       "  ExerciseAngina  Oldpeak ST_Slope  \n",
       "0              N      0.0       Up  \n",
       "1              N      1.0     Flat  \n",
       "2              N      0.0       Up  \n",
       "3              Y      1.5     Flat  \n",
       "4              N      0.0       Up  "
      ]
     },
     "execution_count": 76,
     "metadata": {},
     "output_type": "execute_result"
    }
   ],
   "source": [
    "df=pd.read_csv('heart.csv')\n",
    "data = df.drop(['HeartDisease'], axis=1)\n",
    "data.head()"
   ]
  },
  {
   "cell_type": "code",
   "execution_count": 77,
   "id": "8260a19a",
   "metadata": {},
   "outputs": [],
   "source": [
    "categoric_fs=[i for i in data.columns if data.dtypes[i]=='object']\n",
    "data[categoric_fs] = data[categoric_fs].astype('category')"
   ]
  },
  {
   "cell_type": "code",
   "execution_count": 78,
   "id": "06a9728d",
   "metadata": {},
   "outputs": [],
   "source": [
    "for i in categoric_fs:\n",
    "    data[i] = data[i].cat.codes"
   ]
  },
  {
   "cell_type": "code",
   "execution_count": 79,
   "id": "0a0fa643",
   "metadata": {},
   "outputs": [],
   "source": [
    "tsne=TSNE(n_iter=300).fit_transform(data)\n",
    "data = pd.DataFrame(data = tsne, columns = ['component 1', 'component 2'])\n",
    "finalDf = pd.concat([data, df[['HeartDisease']]], axis = 1)"
   ]
  },
  {
   "cell_type": "code",
   "execution_count": 80,
   "id": "7f3182f8",
   "metadata": {},
   "outputs": [],
   "source": [
    "train=finalDf.sample(frac=0.8,random_state=100) #random state is a seed value\n",
    "test=finalDf.drop(train.index)"
   ]
  },
  {
   "cell_type": "code",
   "execution_count": 81,
   "id": "0b8fa8ec",
   "metadata": {},
   "outputs": [],
   "source": [
    "yTest=test['HeartDisease']    \n",
    "xTest=test[['component 1', 'component 2']]    \n",
    "yTraint=train['HeartDisease']    \n",
    "xTrain=train[['component 1', 'component 2']]    "
   ]
  },
  {
   "cell_type": "code",
   "execution_count": 82,
   "id": "4828b966",
   "metadata": {},
   "outputs": [],
   "source": [
    "final_model=AdaBoostClassifier(learning_rate=0.05,n_estimators=300)"
   ]
  },
  {
   "cell_type": "code",
   "execution_count": 83,
   "id": "3615cc56",
   "metadata": {},
   "outputs": [
    {
     "data": {
      "text/plain": [
       "AdaBoostClassifier(learning_rate=0.05, n_estimators=300)"
      ]
     },
     "execution_count": 83,
     "metadata": {},
     "output_type": "execute_result"
    }
   ],
   "source": [
    "final_model.fit(xTrain,yTrain)"
   ]
  },
  {
   "cell_type": "code",
   "execution_count": 84,
   "id": "0d48d018",
   "metadata": {},
   "outputs": [
    {
     "data": {
      "text/plain": [
       "0.6630434782608695"
      ]
     },
     "execution_count": 84,
     "metadata": {},
     "output_type": "execute_result"
    }
   ],
   "source": [
    "final_model.score(xTest,yTest)"
   ]
  },
  {
   "cell_type": "code",
   "execution_count": 85,
   "id": "3e2d6d7e",
   "metadata": {},
   "outputs": [
    {
     "data": {
      "image/png": "[encoded data removed]",
      "text/plain": [
       "<Figure size 432x288 with 1 Axes>"
      ]
     },
     "metadata": {
      "needs_background": "light"
     },
     "output_type": "display_data"
    }
   ],
   "source": [
    "from mlxtend.plotting import plot_decision_regions\n",
    "xTest=xTest.to_numpy()\n",
    "yTest=yTest.to_numpy()\n",
    "\n",
    "plot_decision_regions(xTest, yTest, clf=final_model, legend=2)\n",
    "plt.show()"
   ]
  }
 ],
 "metadata": {
  "kernelspec": {
   "display_name": "Python 3",
   "language": "python",
   "name": "python3"
  },
  "language_info": {
   "codemirror_mode": {
    "name": "ipython",
    "version": 3
   },
   "file_extension": ".py",
   "mimetype": "text/x-python",
   "name": "python",
   "nbconvert_exporter": "python",
   "pygments_lexer": "ipython3",
   "version": "3.8.8"
  }
 },
 "nbformat": 4,
 "nbformat_minor": 5
}
