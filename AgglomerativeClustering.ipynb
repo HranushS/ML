{
 "cells": [
  {
   "cell_type": "code",
   "execution_count": 17,
   "id": "a6c90309",
   "metadata": {},
   "outputs": [],
   "source": [
    "import numpy as np\n",
    "from sklearn.metrics import pairwise_distances\n",
    "from tqdm import tqdm"
   ]
  },
  {
   "cell_type": "code",
   "execution_count": 61,
   "id": "ee2f5f50",
   "metadata": {},
   "outputs": [],
   "source": [
    "class AgglomerativeClustering:\n",
    "    def __init__(self, n_clusters=2, threshold=100, linkage='average'):\n",
    "        # linkage can be one of {'average', 'complete', 'single'}\n",
    "        # if linkage value is higher than treshold the split is not being done\n",
    "        self.n_clusters = n_clusters\n",
    "        self.threshold = threshold\n",
    "        self.linkage = linkage\n",
    "        \n",
    "    def fit_predict(self, X):\n",
    "        # step 1. Consider all elements as a separate cluster\n",
    "        # step 2. Calculate distance between each 2 clusters based on linkage method\n",
    "        # step 3. Merge 2 closest clusters into single one, if their distance is lower than threshold\n",
    "        # step 4. Repeat steps 2 and 3 while distance between 2 closes clusters is lower than threshold\n",
    "        # Additional: If n_clusters is set to any integer, stop iterations when number of clusters is reached\n",
    "        \n",
    "        clusters = [[x] for x in range(len(X))]       \n",
    "        while len(clusters) > self.n_clusters:\n",
    "            dist_mtrx = np.zeros((len(clusters), len(clusters)))\n",
    "            for i in tqdm(range(len(clusters))):\n",
    "                for j in range(i+1, len(clusters)):\n",
    "                    if self.linkage == 'single':\n",
    "                        dist_mtrx[i][j] = np.min(pairwise_distances(X[clusters[i]], X[clusters[j]]))\n",
    "                    elif self.linkage == 'complete':\n",
    "                        dist_mtrx[i][j] = np.max(pairwise_distances(X[clusters[i]], X[clusters[j]]))\n",
    "                    elif self.linkage == 'average':\n",
    "                        dist_mtrx[i][j] = np.mean(pairwise_distances(X[clusters[i]], X[clusters[j]]))\n",
    "                    dist_mtrx[j][i] = dist_mtrx[i][j]\n",
    "                dist_mtrx[i][i] = np.max(dist_mtrx[i])\n",
    "\n",
    "            #min_i, min_j =  np.unravel_index(np.argmin(dist_mtrx), dist_mtrx.shape)\n",
    "            min_i, min_j = np.argmin(dist_mtrx)//len(dist_mtrx), np.argmin(dist_mtrx)%len(dist_mtrx)\n",
    "            \n",
    "            if np.min(dist_mtrx)>self.threshold:\n",
    "                return clusters\n",
    "            \n",
    "            clusters[min_i].extend(clusters[min_j])\n",
    "            del clusters[min_j] \n",
    "        \n",
    "        return clusters"
   ]
  },
  {
   "cell_type": "code",
   "execution_count": 62,
   "id": "8ddcbbfb",
   "metadata": {},
   "outputs": [],
   "source": [
    "from sklearn.datasets import make_blobs\n",
    "X, y_true = make_blobs(n_samples=300, centers=4,\n",
    "                       cluster_std=0.5, random_state=0)"
   ]
  },
  {
   "cell_type": "code",
   "execution_count": 63,
   "id": "0f639bab",
   "metadata": {},
   "outputs": [
    {
     "data": {
      "image/png": "[encoded data removed]",
      "text/plain": [
       "<Figure size 432x288 with 1 Axes>"
      ]
     },
     "metadata": {},
     "output_type": "display_data"
    }
   ],
   "source": [
    "import matplotlib.pyplot as plt\n",
    "import seaborn as sns; sns.set()  # for plot styling\n",
    "import numpy as np\n",
    "\n",
    "from sklearn.datasets import make_blobs\n",
    "X, y_true = make_blobs(n_samples=100, centers=4,\n",
    "                       cluster_std=0.3, random_state=0)\n",
    "plt.scatter(X[:, 0], X[:, 1], s=50);"
   ]
  },
  {
   "cell_type": "code",
   "execution_count": 68,
   "id": "d1fdda6d",
   "metadata": {
    "scrolled": true
   },
   "outputs": [
    {
     "name": "stderr",
     "output_type": "stream",
     "text": [
      "100%|████████████████████████████████████████| 100/100 [00:00<00:00, 114.76it/s]\n",
      "100%|██████████████████████████████████████████| 99/99 [00:00<00:00, 126.91it/s]\n",
      "100%|██████████████████████████████████████████| 98/98 [00:00<00:00, 135.21it/s]\n",
      "100%|██████████████████████████████████████████| 97/97 [00:00<00:00, 138.19it/s]\n",
      "100%|██████████████████████████████████████████| 96/96 [00:00<00:00, 139.40it/s]\n",
      "100%|██████████████████████████████████████████| 95/95 [00:00<00:00, 141.61it/s]\n",
      "100%|██████████████████████████████████████████| 94/94 [00:00<00:00, 142.89it/s]\n",
      "100%|██████████████████████████████████████████| 93/93 [00:00<00:00, 142.67it/s]\n",
      "100%|██████████████████████████████████████████| 92/92 [00:00<00:00, 144.58it/s]\n",
      "100%|██████████████████████████████████████████| 91/91 [00:00<00:00, 146.02it/s]\n",
      "100%|██████████████████████████████████████████| 90/90 [00:00<00:00, 151.38it/s]\n",
      "100%|██████████████████████████████████████████| 89/89 [00:00<00:00, 145.69it/s]\n",
      "100%|██████████████████████████████████████████| 88/88 [00:00<00:00, 152.34it/s]\n",
      "100%|██████████████████████████████████████████| 87/87 [00:00<00:00, 149.19it/s]\n",
      "100%|██████████████████████████████████████████| 86/86 [00:00<00:00, 154.04it/s]\n",
      "100%|██████████████████████████████████████████| 85/85 [00:00<00:00, 155.48it/s]\n",
      "100%|██████████████████████████████████████████| 84/84 [00:00<00:00, 159.53it/s]\n",
      "100%|██████████████████████████████████████████| 83/83 [00:00<00:00, 162.45it/s]\n",
      "100%|██████████████████████████████████████████| 82/82 [00:00<00:00, 162.95it/s]\n",
      "100%|██████████████████████████████████████████| 81/81 [00:00<00:00, 164.49it/s]\n",
      "100%|██████████████████████████████████████████| 80/80 [00:00<00:00, 162.78it/s]\n",
      "100%|██████████████████████████████████████████| 79/79 [00:00<00:00, 158.39it/s]\n",
      "100%|██████████████████████████████████████████| 78/78 [00:00<00:00, 172.31it/s]\n",
      "100%|██████████████████████████████████████████| 77/77 [00:00<00:00, 167.78it/s]\n",
      "100%|██████████████████████████████████████████| 76/76 [00:00<00:00, 176.89it/s]\n",
      "100%|██████████████████████████████████████████| 75/75 [00:00<00:00, 171.58it/s]\n",
      "100%|██████████████████████████████████████████| 74/74 [00:00<00:00, 176.89it/s]\n",
      "100%|██████████████████████████████████████████| 73/73 [00:00<00:00, 180.85it/s]\n",
      "100%|██████████████████████████████████████████| 72/72 [00:00<00:00, 181.13it/s]\n",
      "100%|██████████████████████████████████████████| 71/71 [00:00<00:00, 185.76it/s]\n",
      "100%|██████████████████████████████████████████| 70/70 [00:00<00:00, 190.29it/s]\n",
      "100%|██████████████████████████████████████████| 69/69 [00:00<00:00, 195.27it/s]\n",
      "100%|██████████████████████████████████████████| 68/68 [00:00<00:00, 196.54it/s]\n",
      "100%|██████████████████████████████████████████| 67/67 [00:00<00:00, 185.05it/s]\n",
      "100%|██████████████████████████████████████████| 66/66 [00:00<00:00, 194.83it/s]\n",
      "100%|██████████████████████████████████████████| 65/65 [00:00<00:00, 170.59it/s]\n",
      "100%|██████████████████████████████████████████| 64/64 [00:00<00:00, 188.34it/s]\n",
      "100%|██████████████████████████████████████████| 63/63 [00:00<00:00, 177.22it/s]\n",
      "100%|██████████████████████████████████████████| 62/62 [00:00<00:00, 187.25it/s]\n",
      "100%|██████████████████████████████████████████| 61/61 [00:00<00:00, 192.51it/s]\n",
      "100%|██████████████████████████████████████████| 60/60 [00:00<00:00, 192.40it/s]\n",
      "100%|██████████████████████████████████████████| 59/59 [00:00<00:00, 195.15it/s]\n",
      "100%|██████████████████████████████████████████| 58/58 [00:00<00:00, 201.88it/s]\n",
      "100%|██████████████████████████████████████████| 57/57 [00:00<00:00, 205.52it/s]\n",
      "100%|██████████████████████████████████████████| 56/56 [00:00<00:00, 209.59it/s]\n",
      "100%|██████████████████████████████████████████| 55/55 [00:00<00:00, 210.59it/s]\n",
      "100%|██████████████████████████████████████████| 54/54 [00:00<00:00, 214.75it/s]\n",
      "100%|██████████████████████████████████████████| 53/53 [00:00<00:00, 231.11it/s]\n",
      "100%|██████████████████████████████████████████| 52/52 [00:00<00:00, 232.74it/s]\n",
      "100%|██████████████████████████████████████████| 51/51 [00:00<00:00, 247.67it/s]\n",
      "100%|██████████████████████████████████████████| 50/50 [00:00<00:00, 206.91it/s]\n",
      "100%|██████████████████████████████████████████| 49/49 [00:00<00:00, 234.71it/s]\n",
      "100%|██████████████████████████████████████████| 48/48 [00:00<00:00, 234.94it/s]\n",
      "100%|██████████████████████████████████████████| 47/47 [00:00<00:00, 253.98it/s]\n",
      "100%|██████████████████████████████████████████| 46/46 [00:00<00:00, 281.15it/s]\n",
      "100%|██████████████████████████████████████████| 45/45 [00:00<00:00, 235.09it/s]\n",
      "100%|██████████████████████████████████████████| 44/44 [00:00<00:00, 249.03it/s]\n",
      "100%|██████████████████████████████████████████| 43/43 [00:00<00:00, 268.83it/s]\n",
      "100%|██████████████████████████████████████████| 42/42 [00:00<00:00, 286.90it/s]\n",
      "100%|██████████████████████████████████████████| 41/41 [00:00<00:00, 276.19it/s]\n",
      "100%|██████████████████████████████████████████| 40/40 [00:00<00:00, 315.91it/s]\n",
      "100%|██████████████████████████████████████████| 39/39 [00:00<00:00, 268.41it/s]\n",
      "100%|██████████████████████████████████████████| 38/38 [00:00<00:00, 327.66it/s]\n",
      "100%|██████████████████████████████████████████| 37/37 [00:00<00:00, 305.31it/s]\n",
      "100%|██████████████████████████████████████████| 36/36 [00:00<00:00, 266.52it/s]\n",
      "100%|██████████████████████████████████████████| 35/35 [00:00<00:00, 284.15it/s]\n",
      "100%|██████████████████████████████████████████| 34/34 [00:00<00:00, 345.13it/s]\n",
      "100%|██████████████████████████████████████████| 33/33 [00:00<00:00, 362.94it/s]\n",
      "100%|██████████████████████████████████████████| 32/32 [00:00<00:00, 358.25it/s]\n",
      "100%|██████████████████████████████████████████| 31/31 [00:00<00:00, 384.22it/s]\n",
      "100%|██████████████████████████████████████████| 30/30 [00:00<00:00, 425.29it/s]\n",
      "100%|██████████████████████████████████████████| 29/29 [00:00<00:00, 425.86it/s]\n",
      "100%|██████████████████████████████████████████| 28/28 [00:00<00:00, 433.26it/s]\n",
      "100%|██████████████████████████████████████████| 27/27 [00:00<00:00, 374.68it/s]\n",
      "100%|██████████████████████████████████████████| 26/26 [00:00<00:00, 362.99it/s]\n",
      "100%|██████████████████████████████████████████| 25/25 [00:00<00:00, 383.58it/s]\n",
      "100%|██████████████████████████████████████████| 24/24 [00:00<00:00, 445.01it/s]\n",
      "100%|██████████████████████████████████████████| 23/23 [00:00<00:00, 485.13it/s]\n",
      "100%|██████████████████████████████████████████| 22/22 [00:00<00:00, 514.68it/s]\n",
      "100%|██████████████████████████████████████████| 21/21 [00:00<00:00, 523.99it/s]\n",
      "100%|██████████████████████████████████████████| 20/20 [00:00<00:00, 566.56it/s]\n",
      "100%|██████████████████████████████████████████| 19/19 [00:00<00:00, 587.97it/s]\n",
      "100%|██████████████████████████████████████████| 18/18 [00:00<00:00, 616.59it/s]\n",
      "100%|██████████████████████████████████████████| 17/17 [00:00<00:00, 628.84it/s]\n",
      "100%|██████████████████████████████████████████| 16/16 [00:00<00:00, 632.79it/s]\n",
      "100%|██████████████████████████████████████████| 15/15 [00:00<00:00, 650.03it/s]\n",
      "100%|██████████████████████████████████████████| 14/14 [00:00<00:00, 665.91it/s]\n",
      "100%|██████████████████████████████████████████| 13/13 [00:00<00:00, 711.04it/s]\n",
      "100%|██████████████████████████████████████████| 12/12 [00:00<00:00, 846.98it/s]\n",
      "100%|██████████████████████████████████████████| 11/11 [00:00<00:00, 968.58it/s]\n",
      "100%|██████████████████████████████████████████| 10/10 [00:00<00:00, 910.24it/s]\n",
      "100%|███████████████████████████████████████████| 9/9 [00:00<00:00, 1024.58it/s]\n",
      "100%|███████████████████████████████████████████| 8/8 [00:00<00:00, 1014.83it/s]\n",
      "100%|███████████████████████████████████████████| 7/7 [00:00<00:00, 1305.24it/s]\n",
      "100%|███████████████████████████████████████████| 6/6 [00:00<00:00, 1239.15it/s]\n",
      "100%|███████████████████████████████████████████| 5/5 [00:00<00:00, 1185.97it/s]\n",
      "100%|███████████████████████████████████████████| 4/4 [00:00<00:00, 1647.41it/s]\n"
     ]
    }
   ],
   "source": [
    "agg_clustering = AgglomerativeClustering(n_clusters=2, threshold=2)\n",
    "clusters = agg_clustering.fit_predict(X)"
   ]
  },
  {
   "cell_type": "code",
   "execution_count": 69,
   "id": "cbac5a0c",
   "metadata": {},
   "outputs": [],
   "source": [
    "c = np.zeros(len(X))\n",
    "for i in range(len(clusters)):\n",
    "    c[clusters[i]] = i"
   ]
  },
  {
   "cell_type": "code",
   "execution_count": 70,
   "id": "785b68e6",
   "metadata": {},
   "outputs": [
    {
     "data": {
      "text/plain": [
       "<matplotlib.collections.PathCollection at 0x138ff7c40>"
      ]
     },
     "execution_count": 70,
     "metadata": {},
     "output_type": "execute_result"
    },
    {
     "data": {
      "image/png": "[encoded data removed]",
      "text/plain": [
       "<Figure size 432x288 with 1 Axes>"
      ]
     },
     "metadata": {},
     "output_type": "display_data"
    }
   ],
   "source": [
    "plt.scatter(X[:, 0], X[:, 1], c=c, s=50, cmap='viridis')"
   ]
  },
  {
   "cell_type": "code",
   "execution_count": null,
   "id": "4b874ef3",
   "metadata": {},
   "outputs": [],
   "source": []
  }
 ],
 "metadata": {
  "kernelspec": {
   "display_name": "Python 3",
   "language": "python",
   "name": "python3"
  },
  "language_info": {
   "codemirror_mode": {
    "name": "ipython",
    "version": 3
   },
   "file_extension": ".py",
   "mimetype": "text/x-python",
   "name": "python",
   "nbconvert_exporter": "python",
   "pygments_lexer": "ipython3",
   "version": "3.8.8"
  }
 },
 "nbformat": 4,
 "nbformat_minor": 5
}
