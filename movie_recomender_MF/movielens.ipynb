{
 "cells": [
  {
   "cell_type": "code",
   "execution_count": 1,
   "id": "462fe45f",
   "metadata": {},
   "outputs": [],
   "source": [
    "import numpy as np\n",
    "import pandas as pd\n",
    "\n",
    "credits=pd.read_csv(\"ratings.csv\")\n",
    "movies=pd.read_csv(\"movies.csv\")"
   ]
  },
  {
   "cell_type": "code",
   "execution_count": 2,
   "id": "02d41cab",
   "metadata": {},
   "outputs": [],
   "source": [
    "movies=movies.merge(credits,on='movieId')\n",
    "movies.rename(columns={'movieId':'id'}, inplace=True)"
   ]
  },
  {
   "cell_type": "code",
   "execution_count": 3,
   "id": "496e2983",
   "metadata": {},
   "outputs": [
    {
     "data": {
      "text/html": [
       "<div>\n",
       "<style scoped>\n",
       "    .dataframe tbody tr th:only-of-type {\n",
       "        vertical-align: middle;\n",
       "    }\n",
       "\n",
       "    .dataframe tbody tr th {\n",
       "        vertical-align: top;\n",
       "    }\n",
       "\n",
       "    .dataframe thead th {\n",
       "        text-align: right;\n",
       "    }\n",
       "</style>\n",
       "<table border=\"1\" class=\"dataframe\">\n",
       "  <thead>\n",
       "    <tr style=\"text-align: right;\">\n",
       "      <th></th>\n",
       "      <th>id</th>\n",
       "      <th>title</th>\n",
       "      <th>genres</th>\n",
       "      <th>userId</th>\n",
       "      <th>rating</th>\n",
       "      <th>timestamp</th>\n",
       "    </tr>\n",
       "  </thead>\n",
       "  <tbody>\n",
       "    <tr>\n",
       "      <th>0</th>\n",
       "      <td>1</td>\n",
       "      <td>Toy Story (1995)</td>\n",
       "      <td>Adventure|Animation|Children|Comedy|Fantasy</td>\n",
       "      <td>1</td>\n",
       "      <td>4.0</td>\n",
       "      <td>964982703</td>\n",
       "    </tr>\n",
       "    <tr>\n",
       "      <th>1</th>\n",
       "      <td>1</td>\n",
       "      <td>Toy Story (1995)</td>\n",
       "      <td>Adventure|Animation|Children|Comedy|Fantasy</td>\n",
       "      <td>5</td>\n",
       "      <td>4.0</td>\n",
       "      <td>847434962</td>\n",
       "    </tr>\n",
       "    <tr>\n",
       "      <th>2</th>\n",
       "      <td>1</td>\n",
       "      <td>Toy Story (1995)</td>\n",
       "      <td>Adventure|Animation|Children|Comedy|Fantasy</td>\n",
       "      <td>7</td>\n",
       "      <td>4.5</td>\n",
       "      <td>1106635946</td>\n",
       "    </tr>\n",
       "    <tr>\n",
       "      <th>3</th>\n",
       "      <td>1</td>\n",
       "      <td>Toy Story (1995)</td>\n",
       "      <td>Adventure|Animation|Children|Comedy|Fantasy</td>\n",
       "      <td>15</td>\n",
       "      <td>2.5</td>\n",
       "      <td>1510577970</td>\n",
       "    </tr>\n",
       "    <tr>\n",
       "      <th>4</th>\n",
       "      <td>1</td>\n",
       "      <td>Toy Story (1995)</td>\n",
       "      <td>Adventure|Animation|Children|Comedy|Fantasy</td>\n",
       "      <td>17</td>\n",
       "      <td>4.5</td>\n",
       "      <td>1305696483</td>\n",
       "    </tr>\n",
       "  </tbody>\n",
       "</table>\n",
       "</div>"
      ],
      "text/plain": [
       "   id             title                                       genres  userId  \\\n",
       "0   1  Toy Story (1995)  Adventure|Animation|Children|Comedy|Fantasy       1   \n",
       "1   1  Toy Story (1995)  Adventure|Animation|Children|Comedy|Fantasy       5   \n",
       "2   1  Toy Story (1995)  Adventure|Animation|Children|Comedy|Fantasy       7   \n",
       "3   1  Toy Story (1995)  Adventure|Animation|Children|Comedy|Fantasy      15   \n",
       "4   1  Toy Story (1995)  Adventure|Animation|Children|Comedy|Fantasy      17   \n",
       "\n",
       "   rating   timestamp  \n",
       "0     4.0   964982703  \n",
       "1     4.0   847434962  \n",
       "2     4.5  1106635946  \n",
       "3     2.5  1510577970  \n",
       "4     4.5  1305696483  "
      ]
     },
     "execution_count": 3,
     "metadata": {},
     "output_type": "execute_result"
    }
   ],
   "source": [
    "movies.head()"
   ]
  },
  {
   "cell_type": "code",
   "execution_count": 4,
   "id": "94fbe321",
   "metadata": {},
   "outputs": [
    {
     "name": "stdout",
     "output_type": "stream",
     "text": [
      "<class 'pandas.core.frame.DataFrame'>\n",
      "Int64Index: 100836 entries, 0 to 100835\n",
      "Data columns (total 6 columns):\n",
      " #   Column     Non-Null Count   Dtype  \n",
      "---  ------     --------------   -----  \n",
      " 0   id         100836 non-null  int64  \n",
      " 1   title      100836 non-null  object \n",
      " 2   genres     100836 non-null  object \n",
      " 3   userId     100836 non-null  int64  \n",
      " 4   rating     100836 non-null  float64\n",
      " 5   timestamp  100836 non-null  int64  \n",
      "dtypes: float64(1), int64(3), object(2)\n",
      "memory usage: 5.4+ MB\n"
     ]
    }
   ],
   "source": [
    "movies.info()"
   ]
  },
  {
   "cell_type": "markdown",
   "id": "2d9264a4",
   "metadata": {},
   "source": [
    "# Data Preprocessing"
   ]
  },
  {
   "cell_type": "markdown",
   "id": "d2999ebd",
   "metadata": {},
   "source": [
    "train/test split and any technique that you think is neccessary (e.g., dropping too common or too uncommon items)"
   ]
  },
  {
   "cell_type": "code",
   "execution_count": 5,
   "id": "b21504d6",
   "metadata": {},
   "outputs": [
    {
     "name": "stdout",
     "output_type": "stream",
     "text": [
      "(80668, 6) \n",
      " (20168, 6)\n"
     ]
    }
   ],
   "source": [
    "from sklearn.model_selection import train_test_split\n",
    "movie_train,movie_test=train_test_split(movies,test_size=0.2,random_state=10)\n",
    "print(movie_train.shape,'\\n',movie_test.shape)"
   ]
  },
  {
   "cell_type": "code",
   "execution_count": 6,
   "id": "380bb517",
   "metadata": {},
   "outputs": [
    {
     "name": "stdout",
     "output_type": "stream",
     "text": [
      "9724\n",
      "610\n"
     ]
    }
   ],
   "source": [
    "from collections import Counter\n",
    "print(len(set(movies['id'])))\n",
    "print(len(set(movies['userId'])))"
   ]
  },
  {
   "cell_type": "markdown",
   "id": "72490cfc",
   "metadata": {},
   "source": [
    "There are 9724 movies in our dataset and 100836 observations, so let's just drop some too common and too uncommon items."
   ]
  },
  {
   "cell_type": "code",
   "execution_count": 7,
   "id": "4a60c1e0",
   "metadata": {},
   "outputs": [],
   "source": [
    "# movies_freq=Counter(movies['id'])\n",
    "# print(movies_freq.most_common()[0:10])#ids of most common items\n",
    "# #as we can see the quantity ov ratings of most common movies are not too big so we can maintain them \n",
    "# print('\\n')\n",
    "# #(np.array(movies_freq.most_common()[-100:])[:,:1]).reshape(-1)#ids of most uncommon items"
   ]
  },
  {
   "cell_type": "code",
   "execution_count": 8,
   "id": "430782eb",
   "metadata": {},
   "outputs": [],
   "source": [
    "# #dropping some common and uncommon rows\n",
    "# i = movies[movies.id.isin(np.array(movies_freq.most_common()[-10:])[:,:1].reshape(-1))].index\n",
    "# movies.drop(i,inplace=True)\n",
    "# print(movies.shape)"
   ]
  },
  {
   "cell_type": "markdown",
   "id": "a9386f54",
   "metadata": {},
   "source": [
    "# Metrics"
   ]
  },
  {
   "cell_type": "markdown",
   "id": "20acd45f",
   "metadata": {},
   "source": [
    "implement metrics to use - map@k, mar@k, coverage etc"
   ]
  },
  {
   "attachments": {
    "image.png": {
     "image/png": "[encoded data removed]"
    }
   },
   "cell_type": "markdown",
   "id": "8557f080",
   "metadata": {},
   "source": [
    "![image.png](attachment:image.png)"
   ]
  },
  {
   "attachments": {
    "image.png": {
     "image/png": "[encoded data removed]"
    }
   },
   "cell_type": "markdown",
   "id": "ce26dd76",
   "metadata": {},
   "source": [
    "![image.png](attachment:image.png)"
   ]
  },
  {
   "cell_type": "code",
   "execution_count": 9,
   "id": "6b139c16",
   "metadata": {},
   "outputs": [],
   "source": [
    "def apk(actual, predicted, k=10):\n",
    "    if len(predicted)>k:\n",
    "        predicted = predicted[:k]\n",
    "\n",
    "    score = 0.0\n",
    "    num_hits = 0.0\n",
    "\n",
    "    for i,p in enumerate(predicted):\n",
    "        if p in actual and p not in predicted[:i]:\n",
    "            num_hits += 1.0\n",
    "            score += num_hits / (i+1.0)\n",
    "\n",
    "    if not actual:\n",
    "        return 0.0\n",
    "\n",
    "    return score / min(len(actual), k)"
   ]
  },
  {
   "cell_type": "code",
   "execution_count": 10,
   "id": "69ea7a67",
   "metadata": {},
   "outputs": [],
   "source": [
    "def mapk(actual, predicted, k=10):\n",
    "    return np.mean([apk(a,p,k) for a,p in zip(actual, predicted)])\n"
   ]
  },
  {
   "cell_type": "markdown",
   "id": "9f5ba273",
   "metadata": {},
   "source": [
    "# Popularity Based Filtering"
   ]
  },
  {
   "cell_type": "markdown",
   "id": "7bda4ce7",
   "metadata": {},
   "source": [
    "Try getting most popular items (the higher average rating, or maybe also include number of views in that score, it is up to you) from training data and recommend them to users from test data. Get metric scores on test data. Any simple tricks to add to enhance some of the metrics?"
   ]
  },
  {
   "attachments": {
    "image-2.png": {
     "image/png": "[encoded data removed]"
    }
   },
   "cell_type": "markdown",
   "id": "1d02aeb8",
   "metadata": {},
   "source": [
    "![image-2.png](attachment:image-2.png)"
   ]
  },
  {
   "cell_type": "code",
   "execution_count": 11,
   "id": "c30ba189",
   "metadata": {},
   "outputs": [],
   "source": [
    "popular = movie_train.groupby('id').agg({'rating' : 'mean', 'userId' : 'count'}) \n",
    "#print(popular.head())\n",
    "popular=popular.sort_values(by=['userId','rating'],  ascending=False)\n",
    "popular.head()\n",
    "index = popular.index\n",
    "list_of_recs=(list(index))\n"
   ]
  },
  {
   "cell_type": "code",
   "execution_count": 12,
   "id": "129b77e9",
   "metadata": {},
   "outputs": [
    {
     "name": "stdout",
     "output_type": "stream",
     "text": [
      "<class 'pandas.core.frame.DataFrame'>\n",
      "Int64Index: 20168 entries, 0 to 20167\n",
      "Data columns (total 8 columns):\n",
      " #   Column     Non-Null Count  Dtype  \n",
      "---  ------     --------------  -----  \n",
      " 0   id         20168 non-null  int64  \n",
      " 1   title      20168 non-null  object \n",
      " 2   genres     20168 non-null  object \n",
      " 3   userId_x   20168 non-null  int64  \n",
      " 4   rating_x   20168 non-null  float64\n",
      " 5   timestamp  20168 non-null  int64  \n",
      " 6   rating_y   20168 non-null  float64\n",
      " 7   userId_y   20168 non-null  float64\n",
      "dtypes: float64(3), int64(3), object(2)\n",
      "memory usage: 1.4+ MB\n"
     ]
    }
   ],
   "source": [
    "merged=movie_test.merge(popular,on='id',how='left').fillna(2.5)\n",
    "merged.info()"
   ]
  },
  {
   "cell_type": "code",
   "execution_count": 13,
   "id": "1ae9a3fc",
   "metadata": {},
   "outputs": [
    {
     "data": {
      "text/html": [
       "<div>\n",
       "<style scoped>\n",
       "    .dataframe tbody tr th:only-of-type {\n",
       "        vertical-align: middle;\n",
       "    }\n",
       "\n",
       "    .dataframe tbody tr th {\n",
       "        vertical-align: top;\n",
       "    }\n",
       "\n",
       "    .dataframe thead th {\n",
       "        text-align: right;\n",
       "    }\n",
       "</style>\n",
       "<table border=\"1\" class=\"dataframe\">\n",
       "  <thead>\n",
       "    <tr style=\"text-align: right;\">\n",
       "      <th></th>\n",
       "      <th>id</th>\n",
       "      <th>title</th>\n",
       "      <th>genres</th>\n",
       "      <th>userId_x</th>\n",
       "      <th>rating_x</th>\n",
       "      <th>timestamp</th>\n",
       "      <th>rating_y</th>\n",
       "      <th>userId_y</th>\n",
       "    </tr>\n",
       "  </thead>\n",
       "  <tbody>\n",
       "    <tr>\n",
       "      <th>0</th>\n",
       "      <td>1733</td>\n",
       "      <td>Afterglow (1997)</td>\n",
       "      <td>Drama|Romance</td>\n",
       "      <td>4</td>\n",
       "      <td>5.0</td>\n",
       "      <td>945079143</td>\n",
       "      <td>4.000000</td>\n",
       "      <td>2.0</td>\n",
       "    </tr>\n",
       "    <tr>\n",
       "      <th>1</th>\n",
       "      <td>3994</td>\n",
       "      <td>Unbreakable (2000)</td>\n",
       "      <td>Drama|Sci-Fi</td>\n",
       "      <td>313</td>\n",
       "      <td>5.0</td>\n",
       "      <td>1030474839</td>\n",
       "      <td>3.525424</td>\n",
       "      <td>59.0</td>\n",
       "    </tr>\n",
       "    <tr>\n",
       "      <th>2</th>\n",
       "      <td>296</td>\n",
       "      <td>Pulp Fiction (1994)</td>\n",
       "      <td>Comedy|Crime|Drama|Thriller</td>\n",
       "      <td>8</td>\n",
       "      <td>4.0</td>\n",
       "      <td>839463422</td>\n",
       "      <td>4.221519</td>\n",
       "      <td>237.0</td>\n",
       "    </tr>\n",
       "    <tr>\n",
       "      <th>3</th>\n",
       "      <td>99005</td>\n",
       "      <td>Fire with Fire (2012)</td>\n",
       "      <td>Action|Crime|Drama</td>\n",
       "      <td>448</td>\n",
       "      <td>1.5</td>\n",
       "      <td>1396094584</td>\n",
       "      <td>2.500000</td>\n",
       "      <td>2.5</td>\n",
       "    </tr>\n",
       "    <tr>\n",
       "      <th>4</th>\n",
       "      <td>2951</td>\n",
       "      <td>Fistful of Dollars, A (Per un pugno di dollari...</td>\n",
       "      <td>Action|Western</td>\n",
       "      <td>610</td>\n",
       "      <td>4.5</td>\n",
       "      <td>1479544792</td>\n",
       "      <td>3.730769</td>\n",
       "      <td>26.0</td>\n",
       "    </tr>\n",
       "    <tr>\n",
       "      <th>...</th>\n",
       "      <td>...</td>\n",
       "      <td>...</td>\n",
       "      <td>...</td>\n",
       "      <td>...</td>\n",
       "      <td>...</td>\n",
       "      <td>...</td>\n",
       "      <td>...</td>\n",
       "      <td>...</td>\n",
       "    </tr>\n",
       "    <tr>\n",
       "      <th>20163</th>\n",
       "      <td>96</td>\n",
       "      <td>In the Bleak Midwinter (1995)</td>\n",
       "      <td>Comedy|Drama</td>\n",
       "      <td>474</td>\n",
       "      <td>3.5</td>\n",
       "      <td>1053020997</td>\n",
       "      <td>2.500000</td>\n",
       "      <td>2.5</td>\n",
       "    </tr>\n",
       "    <tr>\n",
       "      <th>20164</th>\n",
       "      <td>1201</td>\n",
       "      <td>Good, the Bad and the Ugly, The (Buono, il bru...</td>\n",
       "      <td>Action|Adventure|Western</td>\n",
       "      <td>61</td>\n",
       "      <td>4.5</td>\n",
       "      <td>1145532700</td>\n",
       "      <td>4.209091</td>\n",
       "      <td>55.0</td>\n",
       "    </tr>\n",
       "    <tr>\n",
       "      <th>20165</th>\n",
       "      <td>588</td>\n",
       "      <td>Aladdin (1992)</td>\n",
       "      <td>Adventure|Animation|Children|Comedy|Musical</td>\n",
       "      <td>527</td>\n",
       "      <td>5.0</td>\n",
       "      <td>1033175105</td>\n",
       "      <td>3.809524</td>\n",
       "      <td>147.0</td>\n",
       "    </tr>\n",
       "    <tr>\n",
       "      <th>20166</th>\n",
       "      <td>230</td>\n",
       "      <td>Dolores Claiborne (1995)</td>\n",
       "      <td>Drama|Thriller</td>\n",
       "      <td>290</td>\n",
       "      <td>3.0</td>\n",
       "      <td>974943209</td>\n",
       "      <td>3.404762</td>\n",
       "      <td>21.0</td>\n",
       "    </tr>\n",
       "    <tr>\n",
       "      <th>20167</th>\n",
       "      <td>127052</td>\n",
       "      <td>Operation 'Y' &amp; Other Shurik's Adventures (1965)</td>\n",
       "      <td>Comedy|Crime|Romance</td>\n",
       "      <td>523</td>\n",
       "      <td>4.0</td>\n",
       "      <td>1503126038</td>\n",
       "      <td>5.000000</td>\n",
       "      <td>1.0</td>\n",
       "    </tr>\n",
       "  </tbody>\n",
       "</table>\n",
       "<p>20168 rows × 8 columns</p>\n",
       "</div>"
      ],
      "text/plain": [
       "           id                                              title  \\\n",
       "0        1733                                   Afterglow (1997)   \n",
       "1        3994                                 Unbreakable (2000)   \n",
       "2         296                                Pulp Fiction (1994)   \n",
       "3       99005                              Fire with Fire (2012)   \n",
       "4        2951  Fistful of Dollars, A (Per un pugno di dollari...   \n",
       "...       ...                                                ...   \n",
       "20163      96                      In the Bleak Midwinter (1995)   \n",
       "20164    1201  Good, the Bad and the Ugly, The (Buono, il bru...   \n",
       "20165     588                                     Aladdin (1992)   \n",
       "20166     230                           Dolores Claiborne (1995)   \n",
       "20167  127052   Operation 'Y' & Other Shurik's Adventures (1965)   \n",
       "\n",
       "                                            genres  userId_x  rating_x  \\\n",
       "0                                    Drama|Romance         4       5.0   \n",
       "1                                     Drama|Sci-Fi       313       5.0   \n",
       "2                      Comedy|Crime|Drama|Thriller         8       4.0   \n",
       "3                               Action|Crime|Drama       448       1.5   \n",
       "4                                   Action|Western       610       4.5   \n",
       "...                                            ...       ...       ...   \n",
       "20163                                 Comedy|Drama       474       3.5   \n",
       "20164                     Action|Adventure|Western        61       4.5   \n",
       "20165  Adventure|Animation|Children|Comedy|Musical       527       5.0   \n",
       "20166                               Drama|Thriller       290       3.0   \n",
       "20167                         Comedy|Crime|Romance       523       4.0   \n",
       "\n",
       "        timestamp  rating_y  userId_y  \n",
       "0       945079143  4.000000       2.0  \n",
       "1      1030474839  3.525424      59.0  \n",
       "2       839463422  4.221519     237.0  \n",
       "3      1396094584  2.500000       2.5  \n",
       "4      1479544792  3.730769      26.0  \n",
       "...           ...       ...       ...  \n",
       "20163  1053020997  2.500000       2.5  \n",
       "20164  1145532700  4.209091      55.0  \n",
       "20165  1033175105  3.809524     147.0  \n",
       "20166   974943209  3.404762      21.0  \n",
       "20167  1503126038  5.000000       1.0  \n",
       "\n",
       "[20168 rows x 8 columns]"
      ]
     },
     "execution_count": 13,
     "metadata": {},
     "output_type": "execute_result"
    }
   ],
   "source": [
    "merged"
   ]
  },
  {
   "cell_type": "code",
   "execution_count": 14,
   "id": "f2da29d8",
   "metadata": {},
   "outputs": [
    {
     "data": {
      "text/plain": [
       "0.9911068940163392"
      ]
     },
     "execution_count": 14,
     "metadata": {},
     "output_type": "execute_result"
    }
   ],
   "source": [
    "np.sqrt(np.mean((merged['rating_x']-merged['rating_y'])**2))"
   ]
  },
  {
   "cell_type": "code",
   "execution_count": 15,
   "id": "5dbb5874",
   "metadata": {},
   "outputs": [
    {
     "data": {
      "text/plain": [
       "2.8734987290313345"
      ]
     },
     "execution_count": 15,
     "metadata": {},
     "output_type": "execute_result"
    }
   ],
   "source": [
    "avg_rates = movie_train.groupby('id')['rating'].mean()\n",
    "n_rates = movie_train.groupby('id')['userId'].count()\n",
    "avg_rates = 5*(avg_rates*n_rates - avg_rates*n_rates.min())/(avg_rates*n_rates.max() - avg_rates*n_rates.min())\n",
    "avg_rates = avg_rates.to_frame()\n",
    "avg_rates.columns = ['rating_y']\n",
    "\n",
    "pred = movie_test.merge(avg_rates, on='id', how='left')[['userId', 'rating', 'rating_y']].fillna(movie_train.rating.mean())\n",
    "np.sqrt(np.mean((pred['rating'] - pred['rating_y'])**2))"
   ]
  },
  {
   "cell_type": "code",
   "execution_count": 16,
   "id": "da6303ba",
   "metadata": {},
   "outputs": [
    {
     "name": "stdout",
     "output_type": "stream",
     "text": [
      "0.788888888888889\n"
     ]
    }
   ],
   "source": [
    "def user_relevant(test,id):\n",
    "    return movie_test[movie_test.userId.isin([id])]['id']\n",
    "\n",
    "print(apk(list_of_recs,user_relevant(movie_test,2)))"
   ]
  },
  {
   "cell_type": "markdown",
   "id": "a7386891",
   "metadata": {},
   "source": [
    "# Content Based Filtering"
   ]
  },
  {
   "cell_type": "markdown",
   "id": "021c6d54",
   "metadata": {},
   "source": [
    "Recall theory and make content based recommendations"
   ]
  },
  {
   "attachments": {
    "image.png": {
     "image/png": "[encoded data removed]"
    }
   },
   "cell_type": "markdown",
   "id": "88b796b1",
   "metadata": {},
   "source": [
    "![image.png](attachment:image.png)"
   ]
  },
  {
   "cell_type": "code",
   "execution_count": null,
   "id": "09a88e68",
   "metadata": {},
   "outputs": [],
   "source": []
  },
  {
   "cell_type": "code",
   "execution_count": null,
   "id": "3d5c492b",
   "metadata": {},
   "outputs": [],
   "source": []
  },
  {
   "cell_type": "code",
   "execution_count": null,
   "id": "96876bb8",
   "metadata": {},
   "outputs": [],
   "source": []
  },
  {
   "cell_type": "code",
   "execution_count": null,
   "id": "d3e5a5c1",
   "metadata": {},
   "outputs": [],
   "source": []
  },
  {
   "cell_type": "code",
   "execution_count": null,
   "id": "6fb246c7",
   "metadata": {},
   "outputs": [],
   "source": []
  },
  {
   "cell_type": "markdown",
   "id": "20d44329",
   "metadata": {},
   "source": [
    "# Create a user-item interaction matrix"
   ]
  },
  {
   "cell_type": "markdown",
   "id": "a53a0c93",
   "metadata": {},
   "source": [
    "easy way: https://pandas.pydata.org/docs/reference/api/pandas.pivot_table.html"
   ]
  },
  {
   "cell_type": "code",
   "execution_count": 17,
   "id": "91a31db6",
   "metadata": {},
   "outputs": [
    {
     "data": {
      "text/html": [
       "<div>\n",
       "<style scoped>\n",
       "    .dataframe tbody tr th:only-of-type {\n",
       "        vertical-align: middle;\n",
       "    }\n",
       "\n",
       "    .dataframe tbody tr th {\n",
       "        vertical-align: top;\n",
       "    }\n",
       "\n",
       "    .dataframe thead th {\n",
       "        text-align: right;\n",
       "    }\n",
       "</style>\n",
       "<table border=\"1\" class=\"dataframe\">\n",
       "  <thead>\n",
       "    <tr style=\"text-align: right;\">\n",
       "      <th>id</th>\n",
       "      <th>1</th>\n",
       "      <th>2</th>\n",
       "      <th>3</th>\n",
       "      <th>4</th>\n",
       "      <th>5</th>\n",
       "      <th>6</th>\n",
       "      <th>7</th>\n",
       "      <th>8</th>\n",
       "      <th>9</th>\n",
       "      <th>10</th>\n",
       "      <th>...</th>\n",
       "      <th>193565</th>\n",
       "      <th>193567</th>\n",
       "      <th>193571</th>\n",
       "      <th>193573</th>\n",
       "      <th>193579</th>\n",
       "      <th>193581</th>\n",
       "      <th>193583</th>\n",
       "      <th>193585</th>\n",
       "      <th>193587</th>\n",
       "      <th>193609</th>\n",
       "    </tr>\n",
       "    <tr>\n",
       "      <th>userId</th>\n",
       "      <th></th>\n",
       "      <th></th>\n",
       "      <th></th>\n",
       "      <th></th>\n",
       "      <th></th>\n",
       "      <th></th>\n",
       "      <th></th>\n",
       "      <th></th>\n",
       "      <th></th>\n",
       "      <th></th>\n",
       "      <th></th>\n",
       "      <th></th>\n",
       "      <th></th>\n",
       "      <th></th>\n",
       "      <th></th>\n",
       "      <th></th>\n",
       "      <th></th>\n",
       "      <th></th>\n",
       "      <th></th>\n",
       "      <th></th>\n",
       "      <th></th>\n",
       "    </tr>\n",
       "  </thead>\n",
       "  <tbody>\n",
       "    <tr>\n",
       "      <th>1</th>\n",
       "      <td>4.0</td>\n",
       "      <td>0.0</td>\n",
       "      <td>4.0</td>\n",
       "      <td>0.0</td>\n",
       "      <td>0.0</td>\n",
       "      <td>4.0</td>\n",
       "      <td>0.0</td>\n",
       "      <td>0.0</td>\n",
       "      <td>0.0</td>\n",
       "      <td>0.0</td>\n",
       "      <td>...</td>\n",
       "      <td>0.0</td>\n",
       "      <td>0.0</td>\n",
       "      <td>0.0</td>\n",
       "      <td>0.0</td>\n",
       "      <td>0.0</td>\n",
       "      <td>0.0</td>\n",
       "      <td>0.0</td>\n",
       "      <td>0.0</td>\n",
       "      <td>0.0</td>\n",
       "      <td>0.0</td>\n",
       "    </tr>\n",
       "    <tr>\n",
       "      <th>2</th>\n",
       "      <td>0.0</td>\n",
       "      <td>0.0</td>\n",
       "      <td>0.0</td>\n",
       "      <td>0.0</td>\n",
       "      <td>0.0</td>\n",
       "      <td>0.0</td>\n",
       "      <td>0.0</td>\n",
       "      <td>0.0</td>\n",
       "      <td>0.0</td>\n",
       "      <td>0.0</td>\n",
       "      <td>...</td>\n",
       "      <td>0.0</td>\n",
       "      <td>0.0</td>\n",
       "      <td>0.0</td>\n",
       "      <td>0.0</td>\n",
       "      <td>0.0</td>\n",
       "      <td>0.0</td>\n",
       "      <td>0.0</td>\n",
       "      <td>0.0</td>\n",
       "      <td>0.0</td>\n",
       "      <td>0.0</td>\n",
       "    </tr>\n",
       "    <tr>\n",
       "      <th>3</th>\n",
       "      <td>0.0</td>\n",
       "      <td>0.0</td>\n",
       "      <td>0.0</td>\n",
       "      <td>0.0</td>\n",
       "      <td>0.0</td>\n",
       "      <td>0.0</td>\n",
       "      <td>0.0</td>\n",
       "      <td>0.0</td>\n",
       "      <td>0.0</td>\n",
       "      <td>0.0</td>\n",
       "      <td>...</td>\n",
       "      <td>0.0</td>\n",
       "      <td>0.0</td>\n",
       "      <td>0.0</td>\n",
       "      <td>0.0</td>\n",
       "      <td>0.0</td>\n",
       "      <td>0.0</td>\n",
       "      <td>0.0</td>\n",
       "      <td>0.0</td>\n",
       "      <td>0.0</td>\n",
       "      <td>0.0</td>\n",
       "    </tr>\n",
       "    <tr>\n",
       "      <th>4</th>\n",
       "      <td>0.0</td>\n",
       "      <td>0.0</td>\n",
       "      <td>0.0</td>\n",
       "      <td>0.0</td>\n",
       "      <td>0.0</td>\n",
       "      <td>0.0</td>\n",
       "      <td>0.0</td>\n",
       "      <td>0.0</td>\n",
       "      <td>0.0</td>\n",
       "      <td>0.0</td>\n",
       "      <td>...</td>\n",
       "      <td>0.0</td>\n",
       "      <td>0.0</td>\n",
       "      <td>0.0</td>\n",
       "      <td>0.0</td>\n",
       "      <td>0.0</td>\n",
       "      <td>0.0</td>\n",
       "      <td>0.0</td>\n",
       "      <td>0.0</td>\n",
       "      <td>0.0</td>\n",
       "      <td>0.0</td>\n",
       "    </tr>\n",
       "    <tr>\n",
       "      <th>5</th>\n",
       "      <td>4.0</td>\n",
       "      <td>0.0</td>\n",
       "      <td>0.0</td>\n",
       "      <td>0.0</td>\n",
       "      <td>0.0</td>\n",
       "      <td>0.0</td>\n",
       "      <td>0.0</td>\n",
       "      <td>0.0</td>\n",
       "      <td>0.0</td>\n",
       "      <td>0.0</td>\n",
       "      <td>...</td>\n",
       "      <td>0.0</td>\n",
       "      <td>0.0</td>\n",
       "      <td>0.0</td>\n",
       "      <td>0.0</td>\n",
       "      <td>0.0</td>\n",
       "      <td>0.0</td>\n",
       "      <td>0.0</td>\n",
       "      <td>0.0</td>\n",
       "      <td>0.0</td>\n",
       "      <td>0.0</td>\n",
       "    </tr>\n",
       "    <tr>\n",
       "      <th>...</th>\n",
       "      <td>...</td>\n",
       "      <td>...</td>\n",
       "      <td>...</td>\n",
       "      <td>...</td>\n",
       "      <td>...</td>\n",
       "      <td>...</td>\n",
       "      <td>...</td>\n",
       "      <td>...</td>\n",
       "      <td>...</td>\n",
       "      <td>...</td>\n",
       "      <td>...</td>\n",
       "      <td>...</td>\n",
       "      <td>...</td>\n",
       "      <td>...</td>\n",
       "      <td>...</td>\n",
       "      <td>...</td>\n",
       "      <td>...</td>\n",
       "      <td>...</td>\n",
       "      <td>...</td>\n",
       "      <td>...</td>\n",
       "      <td>...</td>\n",
       "    </tr>\n",
       "    <tr>\n",
       "      <th>606</th>\n",
       "      <td>2.5</td>\n",
       "      <td>0.0</td>\n",
       "      <td>0.0</td>\n",
       "      <td>0.0</td>\n",
       "      <td>0.0</td>\n",
       "      <td>0.0</td>\n",
       "      <td>2.5</td>\n",
       "      <td>0.0</td>\n",
       "      <td>0.0</td>\n",
       "      <td>0.0</td>\n",
       "      <td>...</td>\n",
       "      <td>0.0</td>\n",
       "      <td>0.0</td>\n",
       "      <td>0.0</td>\n",
       "      <td>0.0</td>\n",
       "      <td>0.0</td>\n",
       "      <td>0.0</td>\n",
       "      <td>0.0</td>\n",
       "      <td>0.0</td>\n",
       "      <td>0.0</td>\n",
       "      <td>0.0</td>\n",
       "    </tr>\n",
       "    <tr>\n",
       "      <th>607</th>\n",
       "      <td>4.0</td>\n",
       "      <td>0.0</td>\n",
       "      <td>0.0</td>\n",
       "      <td>0.0</td>\n",
       "      <td>0.0</td>\n",
       "      <td>0.0</td>\n",
       "      <td>0.0</td>\n",
       "      <td>0.0</td>\n",
       "      <td>0.0</td>\n",
       "      <td>0.0</td>\n",
       "      <td>...</td>\n",
       "      <td>0.0</td>\n",
       "      <td>0.0</td>\n",
       "      <td>0.0</td>\n",
       "      <td>0.0</td>\n",
       "      <td>0.0</td>\n",
       "      <td>0.0</td>\n",
       "      <td>0.0</td>\n",
       "      <td>0.0</td>\n",
       "      <td>0.0</td>\n",
       "      <td>0.0</td>\n",
       "    </tr>\n",
       "    <tr>\n",
       "      <th>608</th>\n",
       "      <td>2.5</td>\n",
       "      <td>2.0</td>\n",
       "      <td>2.0</td>\n",
       "      <td>0.0</td>\n",
       "      <td>0.0</td>\n",
       "      <td>0.0</td>\n",
       "      <td>0.0</td>\n",
       "      <td>0.0</td>\n",
       "      <td>0.0</td>\n",
       "      <td>4.0</td>\n",
       "      <td>...</td>\n",
       "      <td>0.0</td>\n",
       "      <td>0.0</td>\n",
       "      <td>0.0</td>\n",
       "      <td>0.0</td>\n",
       "      <td>0.0</td>\n",
       "      <td>0.0</td>\n",
       "      <td>0.0</td>\n",
       "      <td>0.0</td>\n",
       "      <td>0.0</td>\n",
       "      <td>0.0</td>\n",
       "    </tr>\n",
       "    <tr>\n",
       "      <th>609</th>\n",
       "      <td>3.0</td>\n",
       "      <td>0.0</td>\n",
       "      <td>0.0</td>\n",
       "      <td>0.0</td>\n",
       "      <td>0.0</td>\n",
       "      <td>0.0</td>\n",
       "      <td>0.0</td>\n",
       "      <td>0.0</td>\n",
       "      <td>0.0</td>\n",
       "      <td>4.0</td>\n",
       "      <td>...</td>\n",
       "      <td>0.0</td>\n",
       "      <td>0.0</td>\n",
       "      <td>0.0</td>\n",
       "      <td>0.0</td>\n",
       "      <td>0.0</td>\n",
       "      <td>0.0</td>\n",
       "      <td>0.0</td>\n",
       "      <td>0.0</td>\n",
       "      <td>0.0</td>\n",
       "      <td>0.0</td>\n",
       "    </tr>\n",
       "    <tr>\n",
       "      <th>610</th>\n",
       "      <td>5.0</td>\n",
       "      <td>0.0</td>\n",
       "      <td>0.0</td>\n",
       "      <td>0.0</td>\n",
       "      <td>0.0</td>\n",
       "      <td>5.0</td>\n",
       "      <td>0.0</td>\n",
       "      <td>0.0</td>\n",
       "      <td>0.0</td>\n",
       "      <td>0.0</td>\n",
       "      <td>...</td>\n",
       "      <td>0.0</td>\n",
       "      <td>0.0</td>\n",
       "      <td>0.0</td>\n",
       "      <td>0.0</td>\n",
       "      <td>0.0</td>\n",
       "      <td>0.0</td>\n",
       "      <td>0.0</td>\n",
       "      <td>0.0</td>\n",
       "      <td>0.0</td>\n",
       "      <td>0.0</td>\n",
       "    </tr>\n",
       "  </tbody>\n",
       "</table>\n",
       "<p>610 rows × 9724 columns</p>\n",
       "</div>"
      ],
      "text/plain": [
       "id      1       2       3       4       5       6       7       8       \\\n",
       "userId                                                                   \n",
       "1          4.0     0.0     4.0     0.0     0.0     4.0     0.0     0.0   \n",
       "2          0.0     0.0     0.0     0.0     0.0     0.0     0.0     0.0   \n",
       "3          0.0     0.0     0.0     0.0     0.0     0.0     0.0     0.0   \n",
       "4          0.0     0.0     0.0     0.0     0.0     0.0     0.0     0.0   \n",
       "5          4.0     0.0     0.0     0.0     0.0     0.0     0.0     0.0   \n",
       "...        ...     ...     ...     ...     ...     ...     ...     ...   \n",
       "606        2.5     0.0     0.0     0.0     0.0     0.0     2.5     0.0   \n",
       "607        4.0     0.0     0.0     0.0     0.0     0.0     0.0     0.0   \n",
       "608        2.5     2.0     2.0     0.0     0.0     0.0     0.0     0.0   \n",
       "609        3.0     0.0     0.0     0.0     0.0     0.0     0.0     0.0   \n",
       "610        5.0     0.0     0.0     0.0     0.0     5.0     0.0     0.0   \n",
       "\n",
       "id      9       10      ...  193565  193567  193571  193573  193579  193581  \\\n",
       "userId                  ...                                                   \n",
       "1          0.0     0.0  ...     0.0     0.0     0.0     0.0     0.0     0.0   \n",
       "2          0.0     0.0  ...     0.0     0.0     0.0     0.0     0.0     0.0   \n",
       "3          0.0     0.0  ...     0.0     0.0     0.0     0.0     0.0     0.0   \n",
       "4          0.0     0.0  ...     0.0     0.0     0.0     0.0     0.0     0.0   \n",
       "5          0.0     0.0  ...     0.0     0.0     0.0     0.0     0.0     0.0   \n",
       "...        ...     ...  ...     ...     ...     ...     ...     ...     ...   \n",
       "606        0.0     0.0  ...     0.0     0.0     0.0     0.0     0.0     0.0   \n",
       "607        0.0     0.0  ...     0.0     0.0     0.0     0.0     0.0     0.0   \n",
       "608        0.0     4.0  ...     0.0     0.0     0.0     0.0     0.0     0.0   \n",
       "609        0.0     4.0  ...     0.0     0.0     0.0     0.0     0.0     0.0   \n",
       "610        0.0     0.0  ...     0.0     0.0     0.0     0.0     0.0     0.0   \n",
       "\n",
       "id      193583  193585  193587  193609  \n",
       "userId                                  \n",
       "1          0.0     0.0     0.0     0.0  \n",
       "2          0.0     0.0     0.0     0.0  \n",
       "3          0.0     0.0     0.0     0.0  \n",
       "4          0.0     0.0     0.0     0.0  \n",
       "5          0.0     0.0     0.0     0.0  \n",
       "...        ...     ...     ...     ...  \n",
       "606        0.0     0.0     0.0     0.0  \n",
       "607        0.0     0.0     0.0     0.0  \n",
       "608        0.0     0.0     0.0     0.0  \n",
       "609        0.0     0.0     0.0     0.0  \n",
       "610        0.0     0.0     0.0     0.0  \n",
       "\n",
       "[610 rows x 9724 columns]"
      ]
     },
     "execution_count": 17,
     "metadata": {},
     "output_type": "execute_result"
    }
   ],
   "source": [
    "ui_table = pd.pivot_table(movies, values='rating', index=['userId'],columns=['id'])\n",
    "ui_table.fillna(0,inplace=True)\n",
    "ui_table"
   ]
  },
  {
   "cell_type": "code",
   "execution_count": 18,
   "id": "904738f3",
   "metadata": {},
   "outputs": [],
   "source": [
    "#isinstance(ui_table,pd.core.frame.DataFrame)"
   ]
  },
  {
   "cell_type": "code",
   "execution_count": 19,
   "id": "39229391",
   "metadata": {},
   "outputs": [
    {
     "data": {
      "text/plain": [
       "array([[4. , 0. , 4. , ..., 0. , 0. , 0. ],\n",
       "       [0. , 0. , 0. , ..., 0. , 0. , 0. ],\n",
       "       [0. , 0. , 0. , ..., 0. , 0. , 0. ],\n",
       "       ...,\n",
       "       [2.5, 2. , 2. , ..., 0. , 0. , 0. ],\n",
       "       [3. , 0. , 0. , ..., 0. , 0. , 0. ],\n",
       "       [5. , 0. , 0. , ..., 0. , 0. , 0. ]])"
      ]
     },
     "execution_count": 19,
     "metadata": {},
     "output_type": "execute_result"
    }
   ],
   "source": [
    "ui_table.to_numpy()"
   ]
  },
  {
   "cell_type": "markdown",
   "id": "6e0f22f0",
   "metadata": {},
   "source": [
    "# Your Matrix Factorization"
   ]
  },
  {
   "cell_type": "markdown",
   "id": "30acad89",
   "metadata": {},
   "source": [
    "Build a class for providing recommendations based on matrix factorization algorithms."
   ]
  },
  {
   "cell_type": "code",
   "execution_count": 20,
   "id": "8e460fc4",
   "metadata": {},
   "outputs": [],
   "source": [
    "from MF import MF "
   ]
  },
  {
   "cell_type": "code",
   "execution_count": 21,
   "id": "2f773c98",
   "metadata": {},
   "outputs": [],
   "source": [
    "model=MF(R=ui_table, K=3, alpha=0.01, beta=0.00001, max_iter=20)"
   ]
  },
  {
   "cell_type": "code",
   "execution_count": 22,
   "id": "8433e515",
   "metadata": {},
   "outputs": [
    {
     "data": {
      "text/plain": [
       "array([[4.59, 4.53, 3.65, ..., 4.01, 3.97, 4.72],\n",
       "       [3.6 , 3.5 , 2.79, ..., 3.03, 3.05, 3.76],\n",
       "       [1.54, 1.75, 0.95, ..., 1.65, 1.53, 2.06],\n",
       "       ...,\n",
       "       [3.86, 3.75, 3.5 , ..., 3.53, 3.73, 4.28],\n",
       "       [3.46, 3.36, 2.61, ..., 2.92, 2.93, 3.67],\n",
       "       [4.03, 3.94, 3.3 , ..., 3.56, 3.61, 4.29]])"
      ]
     },
     "execution_count": 22,
     "metadata": {},
     "output_type": "execute_result"
    }
   ],
   "source": [
    "model.train()"
   ]
  },
  {
   "cell_type": "code",
   "execution_count": null,
   "id": "39db6720",
   "metadata": {},
   "outputs": [],
   "source": []
  },
  {
   "cell_type": "code",
   "execution_count": null,
   "id": "3574b6e7",
   "metadata": {},
   "outputs": [],
   "source": []
  },
  {
   "cell_type": "code",
   "execution_count": null,
   "id": "3fc17dd9",
   "metadata": {},
   "outputs": [],
   "source": []
  }
 ],
 "metadata": {
  "kernelspec": {
   "display_name": "Python 3",
   "language": "python",
   "name": "python3"
  },
  "language_info": {
   "codemirror_mode": {
    "name": "ipython",
    "version": 3
   },
   "file_extension": ".py",
   "mimetype": "text/x-python",
   "name": "python",
   "nbconvert_exporter": "python",
   "pygments_lexer": "ipython3",
   "version": "3.8.8"
  }
 },
 "nbformat": 4,
 "nbformat_minor": 5
}
